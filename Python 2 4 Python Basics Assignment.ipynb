{
 "cells": [
  {
   "cell_type": "code",
   "execution_count": 20,
   "id": "1717b6fd",
   "metadata": {},
   "outputs": [
    {
     "name": "stdout",
     "output_type": "stream",
     "text": [
      "Input your Name : ali\n",
      "Input your SurName : vel\n",
      "ali vel\n"
     ]
    }
   ],
   "source": [
    "#Write a code that outputs your name and surname in one line.\n",
    "\n",
    "name = input(\"Input your Name : \")\n",
    "surname = input(\"Input your SurName : \")\n",
    "print (name + \" \" + surname)"
   ]
  },
  {
   "cell_type": "code",
   "execution_count": 2,
   "id": "0915bef8",
   "metadata": {},
   "outputs": [
    {
     "name": "stdout",
     "output_type": "stream",
     "text": [
      "Turgay\n",
      "Turker\n"
     ]
    }
   ],
   "source": [
    "#Write a 1-line code that outputs your name and surname in two separate lines by using a single print() call.\n",
    "\n",
    "print (\"Turgay\\nTurker\" )"
   ]
  },
  {
   "cell_type": "code",
   "execution_count": 3,
   "id": "19bd28d3",
   "metadata": {},
   "outputs": [
    {
     "name": "stdout",
     "output_type": "stream",
     "text": [
      "I don't want to be an \"artist\". I want to be a \"Data Scientist.\"\n",
      "I don't want to be an \"artist\". I want to be a \"Data Scientist.\" \n"
     ]
    }
   ],
   "source": [
    "#Use print() function that returns the following text. \n",
    "#Notice the quotes in the text. Those quotes should be seen in the output!:\n",
    "#`I don't want to be an \"artist\". I want to be a \"Data Scientist.\"`\n",
    "\n",
    "a= '''I don't want to be an \"artist\". I want to be a \"Data Scientist.\"'''\n",
    "\n",
    "print (a)\n",
    "\n",
    "print (\"\"\"I don't want to be an \"artist\". I want to be a \"Data Scientist.\" \"\"\")"
   ]
  }
 ],
 "metadata": {
  "kernelspec": {
   "display_name": "Python 3 (ipykernel)",
   "language": "python",
   "name": "python3"
  },
  "language_info": {
   "codemirror_mode": {
    "name": "ipython",
    "version": 3
   },
   "file_extension": ".py",
   "mimetype": "text/x-python",
   "name": "python",
   "nbconvert_exporter": "python",
   "pygments_lexer": "ipython3",
   "version": "3.9.12"
  }
 },
 "nbformat": 4,
 "nbformat_minor": 5
}
