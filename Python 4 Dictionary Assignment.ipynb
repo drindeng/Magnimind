{
 "cells": [
  {
   "cell_type": "code",
   "execution_count": null,
   "id": "b7bba363",
   "metadata": {},
   "outputs": [],
   "source": [
    "#1- Create a dictionary with 7 days. \n",
    "#Ask the user to choose 2 different days by listing the (e.g. \"12\" for Monday and Tuesday).\n",
    "#Delete the user-selected days from the dictionary and print the remaining 5 days on the screen.\n",
    "\n",
    "#days_of_week = {'Sunday':0,'Monday': 1, 'Tuesday':2,'Wednesday': 3,'Thursday':4,'Friday': 5,'Saturday':6}\n",
    "days_of_week = {\"0\":'Sunday',1:'Monday',2:'Tuesday',3:'Wednesday',4:'Thursday',5:'Friday',6:'Saturday'}\n",
    "len(days_of_week)\n",
    "\n",
    "Nums=input (f'Chose two integer in the range 0 - {len(days_of_week)-1}, example:12: ')\n",
    "N1 = int(Nums[0])\n",
    "N2 = int(Nums[1])\n",
    "\n",
    "popped_item1=days_of_week.pop(N1) #tek kodda yazabilir miyiz?\n",
    "popped_item2=days_of_week.pop(N2)\n",
    "print(days_of_week)\n",
    "print(popped_item1)\n",
    "print(popped_item2)\n"
   ]
  },
  {
   "cell_type": "code",
   "execution_count": 1,
   "id": "663da701",
   "metadata": {},
   "outputs": [
    {
     "name": "stdout",
     "output_type": "stream",
     "text": [
      "{'Michael': 1, 'Linda': 2}\n"
     ]
    }
   ],
   "source": [
    "#2- Create a dictionary with the following personnel. Use names as keys.\n",
    "\n",
    "#personnels= {1:'Michael',2: 'Linda'}\n",
    "\n",
    "personnels={'Michael':1,'Linda':2}\n",
    "\n",
    "print(personnels)"
   ]
  },
  {
   "cell_type": "code",
   "execution_count": 3,
   "id": "13146a61",
   "metadata": {},
   "outputs": [
    {
     "name": "stdout",
     "output_type": "stream",
     "text": [
      "{'Michael': 1, 'Linda': 2}\n",
      "{1: {'name': 'Karen', 'age': 12, 'sex': 'female'}, 2: {'name': 'Greg', 'age': 7, 'sex': 'male'}}\n"
     ]
    }
   ],
   "source": [
    "#Add child information to Michael and Linda. \n",
    "#Michael has two children (Karen (age : 12, female) and Greg (age : 7, male) and \n",
    "#Linda has one child (Susan (age: 6, female))\n",
    "\n",
    "#personnels= {1:{'Michael':{'children':{1:{'name':'Karen','age':12, 'sex':'female'},2:{'name':'Greg','age':7, 'sex':'male'}}}},2:{'Linda'  :{'children':{1:{'name':'Karen','age':12, 'sex':'female'}}}}}\n",
    "\n",
    "print(personnels)\n",
    "\n",
    "Mic_kids={1:{'name':'Karen','age':12, 'sex':'female'},2:{'name':'Greg','age':7, 'sex':'male'}}\n",
    "personnels1=personnels['Michael']\n",
    "personnels1=Mic_kids\n",
    "print(personnels1)"
   ]
  }
 ],
 "metadata": {
  "kernelspec": {
   "display_name": "Python 3 (ipykernel)",
   "language": "python",
   "name": "python3"
  },
  "language_info": {
   "codemirror_mode": {
    "name": "ipython",
    "version": 3
   },
   "file_extension": ".py",
   "mimetype": "text/x-python",
   "name": "python",
   "nbconvert_exporter": "python",
   "pygments_lexer": "ipython3",
   "version": "3.9.12"
  }
 },
 "nbformat": 4,
 "nbformat_minor": 5
}
