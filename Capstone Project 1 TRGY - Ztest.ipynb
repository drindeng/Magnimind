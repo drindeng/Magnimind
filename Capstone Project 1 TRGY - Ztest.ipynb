{
 "cells": [
  {
   "cell_type": "markdown",
   "id": "dec88404",
   "metadata": {},
   "source": [
    "__Introduction__\n",
    "\n",
    "The objective of this project is to examine the effects of user engagement after seeing Ad A or Ad B\n",
    "\n",
    " \n",
    "\n",
    "__Problem__\n",
    "\n",
    "An advertising company has developed a new ad to have users engage with their questionnaire. The company has shown the new ad to some users and a dummy ad to others and wants their data analyst team to interpret the results. Does the new ad generate more responses to their questionnaire? Is it statistically significant? Is the company justified in using the new ad? \n",
    "\n",
    "\n",
    "__Data__\n",
    "\n",
    "Dataset is found on kaggle from an advertising company. https://www.kaggle.com/osuolaleemmanuel/ad-ab-testing\n",
    "\n",
    "\n",
    "__Columns Description__\n",
    "\n",
    "auction_id: the unique id of the online user who has been presented the BIO. In standard terminologies this is called an impression id. The user may see the BIO questionnaire but choose not to respond. In that case both the yes and no columns are zero.\n",
    "\n",
    "experiment: which group the user belongs to - control or exposed.\n",
    "\n",
    "control: users who have been shown a dummy ad\n",
    "\n",
    "exposed: users who have been shown a creative, an online interactive ad, with the SmartAd brand.\n",
    "\n",
    "date: the date in YYYY-MM-DD format\n",
    "\n",
    "hour: the hour of the day in HH format.\n",
    "\n",
    "device_make: the name of the type of device the user has e.g. Samsung\n",
    "\n",
    "platform_os: the id of the OS the user has.\n",
    "\n",
    "browser: the name of the browser the user uses to see the BIO questionnaire.\n",
    "\n",
    "yes: 1 if the user chooses the “Yes” radio button for the BIO questionnaire.\n",
    "\n",
    "no: 1 if the user chooses the “No” radio button for the BIO questionnaire.\n",
    "\n",
    "\n",
    "\n",
    "\n",
    "__Experiment Approach__\n",
    "\n",
    "__Null Hypothesis Hₒ:__ p = pₒ \"There is no significant difference between the ad success rate of both groups\"\n",
    "\n",
    "__Alternative Hypothesis Hₐ:__ p ≠ pₒ \"There is significant difference between the ad success rate of both groups\"\n",
    "\n",
    "__Confidence Level:__ 95% (α=0.05)\n",
    "\n",
    "_*we will perform a two-tailed test_"
   ]
  },
  {
   "cell_type": "code",
   "execution_count": null,
   "id": "db21093b",
   "metadata": {},
   "outputs": [],
   "source": []
  },
  {
   "cell_type": "markdown",
   "id": "1429c8d0",
   "metadata": {},
   "source": [
    "__Package & Data Imports__"
   ]
  },
  {
   "cell_type": "code",
   "execution_count": 1,
   "id": "33dd5129",
   "metadata": {},
   "outputs": [],
   "source": [
    "import matplotlib.pyplot as plt\n",
    "import numpy as np\n",
    "import pandas as pd\n",
    "from scipy.stats import binom\n",
    "from scipy.stats import norm"
   ]
  },
  {
   "cell_type": "code",
   "execution_count": 2,
   "id": "871b1e71",
   "metadata": {
    "scrolled": true
   },
   "outputs": [
    {
     "data": {
      "text/html": [
       "<div>\n",
       "<style scoped>\n",
       "    .dataframe tbody tr th:only-of-type {\n",
       "        vertical-align: middle;\n",
       "    }\n",
       "\n",
       "    .dataframe tbody tr th {\n",
       "        vertical-align: top;\n",
       "    }\n",
       "\n",
       "    .dataframe thead th {\n",
       "        text-align: right;\n",
       "    }\n",
       "</style>\n",
       "<table border=\"1\" class=\"dataframe\">\n",
       "  <thead>\n",
       "    <tr style=\"text-align: right;\">\n",
       "      <th></th>\n",
       "      <th>auction_id</th>\n",
       "      <th>experiment</th>\n",
       "      <th>date</th>\n",
       "      <th>hour</th>\n",
       "      <th>device_make</th>\n",
       "      <th>platform_os</th>\n",
       "      <th>browser</th>\n",
       "      <th>yes</th>\n",
       "      <th>no</th>\n",
       "    </tr>\n",
       "  </thead>\n",
       "  <tbody>\n",
       "    <tr>\n",
       "      <th>0</th>\n",
       "      <td>0008ef63-77a7-448b-bd1e-075f42c55e39</td>\n",
       "      <td>exposed</td>\n",
       "      <td>2020-07-10</td>\n",
       "      <td>8</td>\n",
       "      <td>Generic Smartphone</td>\n",
       "      <td>6</td>\n",
       "      <td>Chrome Mobile</td>\n",
       "      <td>0</td>\n",
       "      <td>0</td>\n",
       "    </tr>\n",
       "    <tr>\n",
       "      <th>1</th>\n",
       "      <td>000eabc5-17ce-4137-8efe-44734d914446</td>\n",
       "      <td>exposed</td>\n",
       "      <td>2020-07-07</td>\n",
       "      <td>10</td>\n",
       "      <td>Generic Smartphone</td>\n",
       "      <td>6</td>\n",
       "      <td>Chrome Mobile</td>\n",
       "      <td>0</td>\n",
       "      <td>0</td>\n",
       "    </tr>\n",
       "    <tr>\n",
       "      <th>2</th>\n",
       "      <td>0016d14a-ae18-4a02-a204-6ba53b52f2ed</td>\n",
       "      <td>exposed</td>\n",
       "      <td>2020-07-05</td>\n",
       "      <td>2</td>\n",
       "      <td>E5823</td>\n",
       "      <td>6</td>\n",
       "      <td>Chrome Mobile WebView</td>\n",
       "      <td>0</td>\n",
       "      <td>1</td>\n",
       "    </tr>\n",
       "    <tr>\n",
       "      <th>3</th>\n",
       "      <td>00187412-2932-4542-a8ef-3633901c98d9</td>\n",
       "      <td>control</td>\n",
       "      <td>2020-07-03</td>\n",
       "      <td>15</td>\n",
       "      <td>Samsung SM-A705FN</td>\n",
       "      <td>6</td>\n",
       "      <td>Facebook</td>\n",
       "      <td>0</td>\n",
       "      <td>0</td>\n",
       "    </tr>\n",
       "    <tr>\n",
       "      <th>4</th>\n",
       "      <td>001a7785-d3fe-4e11-a344-c8735acacc2c</td>\n",
       "      <td>control</td>\n",
       "      <td>2020-07-03</td>\n",
       "      <td>15</td>\n",
       "      <td>Generic Smartphone</td>\n",
       "      <td>6</td>\n",
       "      <td>Chrome Mobile</td>\n",
       "      <td>0</td>\n",
       "      <td>0</td>\n",
       "    </tr>\n",
       "    <tr>\n",
       "      <th>...</th>\n",
       "      <td>...</td>\n",
       "      <td>...</td>\n",
       "      <td>...</td>\n",
       "      <td>...</td>\n",
       "      <td>...</td>\n",
       "      <td>...</td>\n",
       "      <td>...</td>\n",
       "      <td>...</td>\n",
       "      <td>...</td>\n",
       "    </tr>\n",
       "    <tr>\n",
       "      <th>8072</th>\n",
       "      <td>ffea24ec-cec1-43fb-b1d1-8f93828c2be2</td>\n",
       "      <td>exposed</td>\n",
       "      <td>2020-07-05</td>\n",
       "      <td>7</td>\n",
       "      <td>Generic Smartphone</td>\n",
       "      <td>6</td>\n",
       "      <td>Chrome Mobile</td>\n",
       "      <td>0</td>\n",
       "      <td>0</td>\n",
       "    </tr>\n",
       "    <tr>\n",
       "      <th>8073</th>\n",
       "      <td>ffea3210-2c3e-426f-a77d-0aa72e73b20f</td>\n",
       "      <td>control</td>\n",
       "      <td>2020-07-03</td>\n",
       "      <td>15</td>\n",
       "      <td>Generic Smartphone</td>\n",
       "      <td>6</td>\n",
       "      <td>Chrome Mobile</td>\n",
       "      <td>0</td>\n",
       "      <td>0</td>\n",
       "    </tr>\n",
       "    <tr>\n",
       "      <th>8074</th>\n",
       "      <td>ffeaa0f1-1d72-4ba9-afb4-314b3b00a7c7</td>\n",
       "      <td>control</td>\n",
       "      <td>2020-07-04</td>\n",
       "      <td>9</td>\n",
       "      <td>Generic Smartphone</td>\n",
       "      <td>6</td>\n",
       "      <td>Chrome Mobile</td>\n",
       "      <td>0</td>\n",
       "      <td>0</td>\n",
       "    </tr>\n",
       "    <tr>\n",
       "      <th>8075</th>\n",
       "      <td>ffeeed62-3f7c-4a6e-8ba7-95d303d40969</td>\n",
       "      <td>exposed</td>\n",
       "      <td>2020-07-05</td>\n",
       "      <td>15</td>\n",
       "      <td>Samsung SM-A515F</td>\n",
       "      <td>6</td>\n",
       "      <td>Samsung Internet</td>\n",
       "      <td>0</td>\n",
       "      <td>0</td>\n",
       "    </tr>\n",
       "    <tr>\n",
       "      <th>8076</th>\n",
       "      <td>fffbb9ff-568a-41a5-a0c3-6866592f80d8</td>\n",
       "      <td>control</td>\n",
       "      <td>2020-07-10</td>\n",
       "      <td>14</td>\n",
       "      <td>Samsung SM-G960F</td>\n",
       "      <td>6</td>\n",
       "      <td>Facebook</td>\n",
       "      <td>0</td>\n",
       "      <td>0</td>\n",
       "    </tr>\n",
       "  </tbody>\n",
       "</table>\n",
       "<p>8077 rows × 9 columns</p>\n",
       "</div>"
      ],
      "text/plain": [
       "                                auction_id experiment        date  hour  \\\n",
       "0     0008ef63-77a7-448b-bd1e-075f42c55e39    exposed  2020-07-10     8   \n",
       "1     000eabc5-17ce-4137-8efe-44734d914446    exposed  2020-07-07    10   \n",
       "2     0016d14a-ae18-4a02-a204-6ba53b52f2ed    exposed  2020-07-05     2   \n",
       "3     00187412-2932-4542-a8ef-3633901c98d9    control  2020-07-03    15   \n",
       "4     001a7785-d3fe-4e11-a344-c8735acacc2c    control  2020-07-03    15   \n",
       "...                                    ...        ...         ...   ...   \n",
       "8072  ffea24ec-cec1-43fb-b1d1-8f93828c2be2    exposed  2020-07-05     7   \n",
       "8073  ffea3210-2c3e-426f-a77d-0aa72e73b20f    control  2020-07-03    15   \n",
       "8074  ffeaa0f1-1d72-4ba9-afb4-314b3b00a7c7    control  2020-07-04     9   \n",
       "8075  ffeeed62-3f7c-4a6e-8ba7-95d303d40969    exposed  2020-07-05    15   \n",
       "8076  fffbb9ff-568a-41a5-a0c3-6866592f80d8    control  2020-07-10    14   \n",
       "\n",
       "             device_make  platform_os                browser  yes  no  \n",
       "0     Generic Smartphone            6          Chrome Mobile    0   0  \n",
       "1     Generic Smartphone            6          Chrome Mobile    0   0  \n",
       "2                  E5823            6  Chrome Mobile WebView    0   1  \n",
       "3      Samsung SM-A705FN            6               Facebook    0   0  \n",
       "4     Generic Smartphone            6          Chrome Mobile    0   0  \n",
       "...                  ...          ...                    ...  ...  ..  \n",
       "8072  Generic Smartphone            6          Chrome Mobile    0   0  \n",
       "8073  Generic Smartphone            6          Chrome Mobile    0   0  \n",
       "8074  Generic Smartphone            6          Chrome Mobile    0   0  \n",
       "8075    Samsung SM-A515F            6       Samsung Internet    0   0  \n",
       "8076    Samsung SM-G960F            6               Facebook    0   0  \n",
       "\n",
       "[8077 rows x 9 columns]"
      ]
     },
     "execution_count": 2,
     "metadata": {},
     "output_type": "execute_result"
    }
   ],
   "source": [
    "AdSmart=pd.read_csv(\"AdSmartABdata - AdSmartABdata.csv\")\n",
    "AdSmart"
   ]
  },
  {
   "cell_type": "code",
   "execution_count": 3,
   "id": "4565315a",
   "metadata": {},
   "outputs": [
    {
     "data": {
      "text/html": [
       "<div>\n",
       "<style scoped>\n",
       "    .dataframe tbody tr th:only-of-type {\n",
       "        vertical-align: middle;\n",
       "    }\n",
       "\n",
       "    .dataframe tbody tr th {\n",
       "        vertical-align: top;\n",
       "    }\n",
       "\n",
       "    .dataframe thead th {\n",
       "        text-align: right;\n",
       "    }\n",
       "</style>\n",
       "<table border=\"1\" class=\"dataframe\">\n",
       "  <thead>\n",
       "    <tr style=\"text-align: right;\">\n",
       "      <th></th>\n",
       "      <th>auction_id</th>\n",
       "      <th>experiment</th>\n",
       "      <th>date</th>\n",
       "      <th>hour</th>\n",
       "      <th>device_make</th>\n",
       "      <th>platform_os</th>\n",
       "      <th>browser</th>\n",
       "      <th>yes</th>\n",
       "      <th>no</th>\n",
       "    </tr>\n",
       "  </thead>\n",
       "  <tbody>\n",
       "    <tr>\n",
       "      <th>8067</th>\n",
       "      <td>ffc594ef-756c-4d24-a310-0d8eb4e11eb7</td>\n",
       "      <td>exposed</td>\n",
       "      <td>2020-07-05</td>\n",
       "      <td>1</td>\n",
       "      <td>Samsung SM-G950F</td>\n",
       "      <td>6</td>\n",
       "      <td>Chrome Mobile WebView</td>\n",
       "      <td>0</td>\n",
       "      <td>0</td>\n",
       "    </tr>\n",
       "    <tr>\n",
       "      <th>8068</th>\n",
       "      <td>ffc860d9-dece-4e24-92b2-3379fe7dc73d</td>\n",
       "      <td>control</td>\n",
       "      <td>2020-07-10</td>\n",
       "      <td>8</td>\n",
       "      <td>Samsung SM-A520F</td>\n",
       "      <td>6</td>\n",
       "      <td>Samsung Internet</td>\n",
       "      <td>0</td>\n",
       "      <td>0</td>\n",
       "    </tr>\n",
       "    <tr>\n",
       "      <th>8069</th>\n",
       "      <td>ffca1153-c182-4f32-9e90-2a6008417497</td>\n",
       "      <td>control</td>\n",
       "      <td>2020-07-10</td>\n",
       "      <td>16</td>\n",
       "      <td>Generic Smartphone</td>\n",
       "      <td>6</td>\n",
       "      <td>Chrome Mobile</td>\n",
       "      <td>0</td>\n",
       "      <td>1</td>\n",
       "    </tr>\n",
       "    <tr>\n",
       "      <th>8070</th>\n",
       "      <td>ffcea781-a6e7-4f98-9d90-f95377270476</td>\n",
       "      <td>control</td>\n",
       "      <td>2020-07-03</td>\n",
       "      <td>15</td>\n",
       "      <td>Samsung SM-N976B</td>\n",
       "      <td>6</td>\n",
       "      <td>Facebook</td>\n",
       "      <td>0</td>\n",
       "      <td>0</td>\n",
       "    </tr>\n",
       "    <tr>\n",
       "      <th>8071</th>\n",
       "      <td>ffdfdc09-48c7-4bfb-80f8-ec1eb633602b</td>\n",
       "      <td>exposed</td>\n",
       "      <td>2020-07-03</td>\n",
       "      <td>4</td>\n",
       "      <td>Generic Smartphone</td>\n",
       "      <td>6</td>\n",
       "      <td>Chrome Mobile</td>\n",
       "      <td>0</td>\n",
       "      <td>1</td>\n",
       "    </tr>\n",
       "    <tr>\n",
       "      <th>8072</th>\n",
       "      <td>ffea24ec-cec1-43fb-b1d1-8f93828c2be2</td>\n",
       "      <td>exposed</td>\n",
       "      <td>2020-07-05</td>\n",
       "      <td>7</td>\n",
       "      <td>Generic Smartphone</td>\n",
       "      <td>6</td>\n",
       "      <td>Chrome Mobile</td>\n",
       "      <td>0</td>\n",
       "      <td>0</td>\n",
       "    </tr>\n",
       "    <tr>\n",
       "      <th>8073</th>\n",
       "      <td>ffea3210-2c3e-426f-a77d-0aa72e73b20f</td>\n",
       "      <td>control</td>\n",
       "      <td>2020-07-03</td>\n",
       "      <td>15</td>\n",
       "      <td>Generic Smartphone</td>\n",
       "      <td>6</td>\n",
       "      <td>Chrome Mobile</td>\n",
       "      <td>0</td>\n",
       "      <td>0</td>\n",
       "    </tr>\n",
       "    <tr>\n",
       "      <th>8074</th>\n",
       "      <td>ffeaa0f1-1d72-4ba9-afb4-314b3b00a7c7</td>\n",
       "      <td>control</td>\n",
       "      <td>2020-07-04</td>\n",
       "      <td>9</td>\n",
       "      <td>Generic Smartphone</td>\n",
       "      <td>6</td>\n",
       "      <td>Chrome Mobile</td>\n",
       "      <td>0</td>\n",
       "      <td>0</td>\n",
       "    </tr>\n",
       "    <tr>\n",
       "      <th>8075</th>\n",
       "      <td>ffeeed62-3f7c-4a6e-8ba7-95d303d40969</td>\n",
       "      <td>exposed</td>\n",
       "      <td>2020-07-05</td>\n",
       "      <td>15</td>\n",
       "      <td>Samsung SM-A515F</td>\n",
       "      <td>6</td>\n",
       "      <td>Samsung Internet</td>\n",
       "      <td>0</td>\n",
       "      <td>0</td>\n",
       "    </tr>\n",
       "    <tr>\n",
       "      <th>8076</th>\n",
       "      <td>fffbb9ff-568a-41a5-a0c3-6866592f80d8</td>\n",
       "      <td>control</td>\n",
       "      <td>2020-07-10</td>\n",
       "      <td>14</td>\n",
       "      <td>Samsung SM-G960F</td>\n",
       "      <td>6</td>\n",
       "      <td>Facebook</td>\n",
       "      <td>0</td>\n",
       "      <td>0</td>\n",
       "    </tr>\n",
       "  </tbody>\n",
       "</table>\n",
       "</div>"
      ],
      "text/plain": [
       "                                auction_id experiment        date  hour  \\\n",
       "8067  ffc594ef-756c-4d24-a310-0d8eb4e11eb7    exposed  2020-07-05     1   \n",
       "8068  ffc860d9-dece-4e24-92b2-3379fe7dc73d    control  2020-07-10     8   \n",
       "8069  ffca1153-c182-4f32-9e90-2a6008417497    control  2020-07-10    16   \n",
       "8070  ffcea781-a6e7-4f98-9d90-f95377270476    control  2020-07-03    15   \n",
       "8071  ffdfdc09-48c7-4bfb-80f8-ec1eb633602b    exposed  2020-07-03     4   \n",
       "8072  ffea24ec-cec1-43fb-b1d1-8f93828c2be2    exposed  2020-07-05     7   \n",
       "8073  ffea3210-2c3e-426f-a77d-0aa72e73b20f    control  2020-07-03    15   \n",
       "8074  ffeaa0f1-1d72-4ba9-afb4-314b3b00a7c7    control  2020-07-04     9   \n",
       "8075  ffeeed62-3f7c-4a6e-8ba7-95d303d40969    exposed  2020-07-05    15   \n",
       "8076  fffbb9ff-568a-41a5-a0c3-6866592f80d8    control  2020-07-10    14   \n",
       "\n",
       "             device_make  platform_os                browser  yes  no  \n",
       "8067    Samsung SM-G950F            6  Chrome Mobile WebView    0   0  \n",
       "8068    Samsung SM-A520F            6       Samsung Internet    0   0  \n",
       "8069  Generic Smartphone            6          Chrome Mobile    0   1  \n",
       "8070    Samsung SM-N976B            6               Facebook    0   0  \n",
       "8071  Generic Smartphone            6          Chrome Mobile    0   1  \n",
       "8072  Generic Smartphone            6          Chrome Mobile    0   0  \n",
       "8073  Generic Smartphone            6          Chrome Mobile    0   0  \n",
       "8074  Generic Smartphone            6          Chrome Mobile    0   0  \n",
       "8075    Samsung SM-A515F            6       Samsung Internet    0   0  \n",
       "8076    Samsung SM-G960F            6               Facebook    0   0  "
      ]
     },
     "execution_count": 3,
     "metadata": {},
     "output_type": "execute_result"
    }
   ],
   "source": [
    "AdSmart.tail(10)"
   ]
  },
  {
   "cell_type": "code",
   "execution_count": 4,
   "id": "ee46b4c8",
   "metadata": {},
   "outputs": [
    {
     "data": {
      "text/plain": [
       "(8077, 9)"
      ]
     },
     "execution_count": 4,
     "metadata": {},
     "output_type": "execute_result"
    }
   ],
   "source": [
    "AdSmart.shape"
   ]
  },
  {
   "cell_type": "code",
   "execution_count": 5,
   "id": "89a835f0",
   "metadata": {
    "scrolled": false
   },
   "outputs": [
    {
     "name": "stdout",
     "output_type": "stream",
     "text": [
      "<class 'pandas.core.frame.DataFrame'>\n",
      "RangeIndex: 8077 entries, 0 to 8076\n",
      "Data columns (total 9 columns):\n",
      " #   Column       Non-Null Count  Dtype \n",
      "---  ------       --------------  ----- \n",
      " 0   auction_id   8077 non-null   object\n",
      " 1   experiment   8077 non-null   object\n",
      " 2   date         8077 non-null   object\n",
      " 3   hour         8077 non-null   int64 \n",
      " 4   device_make  8077 non-null   object\n",
      " 5   platform_os  8077 non-null   int64 \n",
      " 6   browser      8077 non-null   object\n",
      " 7   yes          8077 non-null   int64 \n",
      " 8   no           8077 non-null   int64 \n",
      "dtypes: int64(4), object(5)\n",
      "memory usage: 568.0+ KB\n"
     ]
    }
   ],
   "source": [
    "AdSmart.info()"
   ]
  },
  {
   "cell_type": "code",
   "execution_count": null,
   "id": "62367dcf",
   "metadata": {},
   "outputs": [],
   "source": []
  },
  {
   "cell_type": "markdown",
   "id": "d99ffe38",
   "metadata": {},
   "source": [
    "__Package & Data Imports__"
   ]
  },
  {
   "cell_type": "markdown",
   "id": "f184ed1a",
   "metadata": {},
   "source": [
    "__Check for null values__"
   ]
  },
  {
   "cell_type": "code",
   "execution_count": 6,
   "id": "646a0614",
   "metadata": {
    "scrolled": false
   },
   "outputs": [
    {
     "data": {
      "text/plain": [
       "auction_id     0\n",
       "experiment     0\n",
       "date           0\n",
       "hour           0\n",
       "device_make    0\n",
       "platform_os    0\n",
       "browser        0\n",
       "yes            0\n",
       "no             0\n",
       "dtype: int64"
      ]
     },
     "execution_count": 6,
     "metadata": {},
     "output_type": "execute_result"
    }
   ],
   "source": [
    "AdSmart.isnull().sum()"
   ]
  },
  {
   "cell_type": "markdown",
   "id": "c18cfe6d",
   "metadata": {},
   "source": [
    "_*there is no null values_"
   ]
  },
  {
   "cell_type": "code",
   "execution_count": null,
   "id": "4f630740",
   "metadata": {},
   "outputs": [],
   "source": []
  },
  {
   "cell_type": "markdown",
   "id": "9f612c70",
   "metadata": {},
   "source": [
    "__Exploratory Data Analysis__"
   ]
  },
  {
   "cell_type": "code",
   "execution_count": 7,
   "id": "d897ec6b",
   "metadata": {},
   "outputs": [
    {
     "data": {
      "text/plain": [
       "control    4071\n",
       "exposed    4006\n",
       "Name: experiment, dtype: int64"
      ]
     },
     "execution_count": 7,
     "metadata": {},
     "output_type": "execute_result"
    }
   ],
   "source": [
    "AdSmart['experiment'].value_counts()"
   ]
  },
  {
   "cell_type": "code",
   "execution_count": 8,
   "id": "77fef1bb",
   "metadata": {},
   "outputs": [
    {
     "data": {
      "text/plain": [
       "4071"
      ]
     },
     "execution_count": 8,
     "metadata": {},
     "output_type": "execute_result"
    }
   ],
   "source": [
    "Num_con= AdSmart.experiment.value_counts().control\n",
    "Num_con"
   ]
  },
  {
   "cell_type": "code",
   "execution_count": 9,
   "id": "fbafe11e",
   "metadata": {},
   "outputs": [
    {
     "data": {
      "text/plain": [
       "4006"
      ]
     },
     "execution_count": 9,
     "metadata": {},
     "output_type": "execute_result"
    }
   ],
   "source": [
    "Num_exp= AdSmart.experiment.value_counts().exposed\n",
    "Num_exp"
   ]
  },
  {
   "cell_type": "code",
   "execution_count": 10,
   "id": "611e3c9c",
   "metadata": {
    "scrolled": true
   },
   "outputs": [
    {
     "data": {
      "text/html": [
       "<div>\n",
       "<style scoped>\n",
       "    .dataframe tbody tr th:only-of-type {\n",
       "        vertical-align: middle;\n",
       "    }\n",
       "\n",
       "    .dataframe tbody tr th {\n",
       "        vertical-align: top;\n",
       "    }\n",
       "\n",
       "    .dataframe thead th {\n",
       "        text-align: right;\n",
       "    }\n",
       "</style>\n",
       "<table border=\"1\" class=\"dataframe\">\n",
       "  <thead>\n",
       "    <tr style=\"text-align: right;\">\n",
       "      <th></th>\n",
       "      <th>hour</th>\n",
       "      <th>platform_os</th>\n",
       "      <th>yes</th>\n",
       "      <th>no</th>\n",
       "    </tr>\n",
       "    <tr>\n",
       "      <th>experiment</th>\n",
       "      <th></th>\n",
       "      <th></th>\n",
       "      <th></th>\n",
       "      <th></th>\n",
       "    </tr>\n",
       "  </thead>\n",
       "  <tbody>\n",
       "    <tr>\n",
       "      <th>control</th>\n",
       "      <td>50884</td>\n",
       "      <td>24118</td>\n",
       "      <td>264</td>\n",
       "      <td>322</td>\n",
       "    </tr>\n",
       "    <tr>\n",
       "      <th>exposed</th>\n",
       "      <td>42931</td>\n",
       "      <td>23917</td>\n",
       "      <td>308</td>\n",
       "      <td>349</td>\n",
       "    </tr>\n",
       "  </tbody>\n",
       "</table>\n",
       "</div>"
      ],
      "text/plain": [
       "             hour  platform_os  yes   no\n",
       "experiment                              \n",
       "control     50884        24118  264  322\n",
       "exposed     42931        23917  308  349"
      ]
     },
     "execution_count": 10,
     "metadata": {},
     "output_type": "execute_result"
    }
   ],
   "source": [
    "Exper= AdSmart.groupby(['experiment']).sum()\n",
    "Exper"
   ]
  },
  {
   "cell_type": "code",
   "execution_count": 11,
   "id": "088091fa",
   "metadata": {},
   "outputs": [
    {
     "name": "stderr",
     "output_type": "stream",
     "text": [
      "C:\\Users\\TT Z580\\AppData\\Local\\Temp\\ipykernel_15340\\3924047902.py:1: FutureWarning: Indexing with multiple keys (implicitly converted to a tuple of keys) will be deprecated, use a list instead.\n",
      "  Exper_YesNo= AdSmart.groupby('experiment')['yes','no'].sum()\n"
     ]
    },
    {
     "data": {
      "text/html": [
       "<div>\n",
       "<style scoped>\n",
       "    .dataframe tbody tr th:only-of-type {\n",
       "        vertical-align: middle;\n",
       "    }\n",
       "\n",
       "    .dataframe tbody tr th {\n",
       "        vertical-align: top;\n",
       "    }\n",
       "\n",
       "    .dataframe thead th {\n",
       "        text-align: right;\n",
       "    }\n",
       "</style>\n",
       "<table border=\"1\" class=\"dataframe\">\n",
       "  <thead>\n",
       "    <tr style=\"text-align: right;\">\n",
       "      <th></th>\n",
       "      <th>yes</th>\n",
       "      <th>no</th>\n",
       "    </tr>\n",
       "    <tr>\n",
       "      <th>experiment</th>\n",
       "      <th></th>\n",
       "      <th></th>\n",
       "    </tr>\n",
       "  </thead>\n",
       "  <tbody>\n",
       "    <tr>\n",
       "      <th>control</th>\n",
       "      <td>264</td>\n",
       "      <td>322</td>\n",
       "    </tr>\n",
       "    <tr>\n",
       "      <th>exposed</th>\n",
       "      <td>308</td>\n",
       "      <td>349</td>\n",
       "    </tr>\n",
       "  </tbody>\n",
       "</table>\n",
       "</div>"
      ],
      "text/plain": [
       "            yes   no\n",
       "experiment          \n",
       "control     264  322\n",
       "exposed     308  349"
      ]
     },
     "execution_count": 11,
     "metadata": {},
     "output_type": "execute_result"
    }
   ],
   "source": [
    "Exper_YesNo= AdSmart.groupby('experiment')['yes','no'].sum()\n",
    "Exper_YesNo"
   ]
  },
  {
   "cell_type": "code",
   "execution_count": 12,
   "id": "55e17371",
   "metadata": {
    "scrolled": true
   },
   "outputs": [
    {
     "data": {
      "text/plain": [
       "experiment\n",
       "control    264\n",
       "exposed    308\n",
       "Name: yes, dtype: int64"
      ]
     },
     "execution_count": 12,
     "metadata": {},
     "output_type": "execute_result"
    }
   ],
   "source": [
    "Exper_Yes= AdSmart.groupby('experiment')['yes'].sum()\n",
    "Exper_Yes"
   ]
  },
  {
   "cell_type": "code",
   "execution_count": 13,
   "id": "a35453ee",
   "metadata": {},
   "outputs": [
    {
     "data": {
      "text/plain": [
       "(264, 308)"
      ]
     },
     "execution_count": 13,
     "metadata": {},
     "output_type": "execute_result"
    }
   ],
   "source": [
    "Con_Yes=Exper_Yes.iloc[0]\n",
    "Exp_Yes=Exper_Yes.iloc[1]\n",
    "Con_Yes, Exp_Yes"
   ]
  },
  {
   "cell_type": "code",
   "execution_count": 14,
   "id": "cbe39028",
   "metadata": {},
   "outputs": [
    {
     "name": "stdout",
     "output_type": "stream",
     "text": [
      "0.06484893146647015\n",
      "0.07688467299051423\n"
     ]
    }
   ],
   "source": [
    "rate_con, rate_exp = Con_Yes/Num_con, Exp_Yes/Num_exp\n",
    "print(rate_con)\n",
    "print(rate_exp)"
   ]
  },
  {
   "cell_type": "markdown",
   "id": "fba9d247",
   "metadata": {},
   "source": [
    "Ad Success Control group 6.49%\n",
    "\n",
    "Ad Success Exposed group 7.69%\n",
    "\n",
    "Ad success is higher on the exposed group by 18%"
   ]
  },
  {
   "cell_type": "code",
   "execution_count": null,
   "id": "fc26198a",
   "metadata": {},
   "outputs": [],
   "source": []
  },
  {
   "cell_type": "markdown",
   "id": "3500eaa7",
   "metadata": {},
   "source": [
    "__Statistical Significance__"
   ]
  },
  {
   "cell_type": "code",
   "execution_count": 15,
   "id": "6552f7a7",
   "metadata": {},
   "outputs": [],
   "source": [
    "# Significance Level\n",
    "alpha = 0.05"
   ]
  },
  {
   "cell_type": "code",
   "execution_count": 16,
   "id": "7c54c3a3",
   "metadata": {},
   "outputs": [
    {
     "data": {
      "text/plain": [
       "0.07081837315835088"
      ]
     },
     "execution_count": 16,
     "metadata": {},
     "output_type": "execute_result"
    }
   ],
   "source": [
    "p_pooled_hat= (Con_Yes+Exp_Yes)/(Num_con+Num_exp)\n",
    "p_pooled_hat"
   ]
  },
  {
   "cell_type": "code",
   "execution_count": 17,
   "id": "f068c899",
   "metadata": {},
   "outputs": [
    {
     "data": {
      "text/plain": [
       "3.259001761135153e-05"
      ]
     },
     "execution_count": 17,
     "metadata": {},
     "output_type": "execute_result"
    }
   ],
   "source": [
    "pooled_variance= p_pooled_hat*(1-p_pooled_hat) * (1/Num_con + 1/Num_exp)\n",
    "pooled_variance"
   ]
  },
  {
   "cell_type": "code",
   "execution_count": 18,
   "id": "0113d47e",
   "metadata": {},
   "outputs": [
    {
     "data": {
      "text/plain": [
       "0.005708766732960065"
      ]
     },
     "execution_count": 18,
     "metadata": {},
     "output_type": "execute_result"
    }
   ],
   "source": [
    "# Standard Error\n",
    "SE = np.sqrt(pooled_variance)\n",
    "SE"
   ]
  },
  {
   "cell_type": "code",
   "execution_count": 19,
   "id": "5f3dddc5",
   "metadata": {},
   "outputs": [
    {
     "data": {
      "text/plain": [
       "-2.108290999972843"
      ]
     },
     "execution_count": 19,
     "metadata": {},
     "output_type": "execute_result"
    }
   ],
   "source": [
    "# test statsitics\n",
    "Test_stat = (rate_con - rate_exp)/SE\n",
    "Test_stat"
   ]
  },
  {
   "cell_type": "code",
   "execution_count": 20,
   "id": "5600fb08",
   "metadata": {},
   "outputs": [
    {
     "data": {
      "text/plain": [
       "1.959963984540054"
      ]
     },
     "execution_count": 20,
     "metadata": {},
     "output_type": "execute_result"
    }
   ],
   "source": [
    "# critical value usig the standard normal distribution\n",
    "Z_crit = norm.ppf(1-alpha/2)\n",
    "Z_crit"
   ]
  },
  {
   "cell_type": "code",
   "execution_count": 21,
   "id": "6215749d",
   "metadata": {},
   "outputs": [
    {
     "data": {
      "text/plain": [
       "0.011188977192742115"
      ]
     },
     "execution_count": 21,
     "metadata": {},
     "output_type": "execute_result"
    }
   ],
   "source": [
    "# Margin of error\n",
    "m = SE * Z_crit\n",
    "m"
   ]
  },
  {
   "cell_type": "code",
   "execution_count": 22,
   "id": "e5096787",
   "metadata": {},
   "outputs": [
    {
     "data": {
      "text/plain": [
       "1.9649941740316754"
      ]
     },
     "execution_count": 22,
     "metadata": {},
     "output_type": "execute_result"
    }
   ],
   "source": [
    "# two sided test and using symmetry property of Normal distibution so we multiple with 2\n",
    "p_value = norm.sf(Test_stat)*2\n",
    "p_value"
   ]
  },
  {
   "cell_type": "code",
   "execution_count": 23,
   "id": "6b127629",
   "metadata": {},
   "outputs": [
    {
     "data": {
      "text/plain": [
       "[-0.02322471871678619, -0.0008467643313019597]"
      ]
     },
     "execution_count": 23,
     "metadata": {},
     "output_type": "execute_result"
    }
   ],
   "source": [
    "# Confidence Interval\n",
    "CI = [(rate_con-rate_exp) - SE * Z_crit, (rate_con-rate_exp) + SE * Z_crit]\n",
    "CI"
   ]
  },
  {
   "cell_type": "code",
   "execution_count": 24,
   "id": "07a93bd5",
   "metadata": {},
   "outputs": [
    {
     "name": "stdout",
     "output_type": "stream",
     "text": [
      "reject the null\n",
      "1.9649941740316754\n"
     ]
    }
   ],
   "source": [
    "if np.abs(Test_stat) >= Z_crit:\n",
    "    print(\"reject the null\")\n",
    "else:\n",
    "    print(\"can not reject the null\")\n",
    "print(p_value)"
   ]
  },
  {
   "cell_type": "code",
   "execution_count": 25,
   "id": "f45b00eb",
   "metadata": {},
   "outputs": [
    {
     "name": "stdout",
     "output_type": "stream",
     "text": [
      "Test Statistics stat:  -2.108290999972843\n",
      "Z-critical:  1.959963984540054\n",
      "P_value:  1.9649941740316754\n",
      "Confidence Interval of 2 sample Z-test for proportions:  [-0.023225 -0.000847]\n"
     ]
    }
   ],
   "source": [
    "print(\"Test Statistics stat: \", Test_stat)\n",
    "print(\"Z-critical: \", Z_crit)\n",
    "print(\"P_value: \", p_value)\n",
    "print(\"Confidence Interval of 2 sample Z-test for proportions: \", np.round(CI,6))"
   ]
  },
  {
   "cell_type": "code",
   "execution_count": 26,
   "id": "1e344661",
   "metadata": {},
   "outputs": [
    {
     "data": {
      "image/png": "[encoded data removed]",
      "text/plain": [
       "<Figure size 432x288 with 1 Axes>"
      ]
     },
     "metadata": {
      "needs_background": "light"
     },
     "output_type": "display_data"
    }
   ],
   "source": [
    "import matplotlib.pyplot as plt\n",
    "z = np.arange(-3,3,  0.1)\n",
    "plt.plot(z, norm.pdf(z), label = 'Standard Normal Distribution',color = 'purple',linewidth = 2.5)\n",
    "plt.fill_between(z[z>Z_crit], norm.pdf(z[z>Z_crit]), label = 'Right Rejection Region',color ='y' )\n",
    "plt.fill_between(z[z<(-1)*Z_crit], norm.pdf(z[z<(-1)*Z_crit]), label = 'Left Rejection Region',color ='y' )\n",
    "plt.title(\"Two Sample Z-test rejection region\")\n",
    "plt.legend()\n",
    "plt.show()"
   ]
  },
  {
   "cell_type": "code",
   "execution_count": null,
   "id": "50e70127",
   "metadata": {},
   "outputs": [],
   "source": []
  },
  {
   "cell_type": "markdown",
   "id": "f674aa5f",
   "metadata": {},
   "source": [
    "__Conclusion__\n",
    "\n",
    "|Test_stat| > Z_crit (|-2.108290999972843| > 1.9599)\n",
    "\n",
    "\n",
    "We reject the null hypothesis and conclude that there is a statistically significant difference between the AdA and AdB\n",
    "\n",
    "These findings indicate that the new ad will yield extra benefit."
   ]
  },
  {
   "cell_type": "code",
   "execution_count": null,
   "id": "64522765",
   "metadata": {},
   "outputs": [],
   "source": []
  }
 ],
 "metadata": {
  "kernelspec": {
   "display_name": "Python 3 (ipykernel)",
   "language": "python",
   "name": "python3"
  },
  "language_info": {
   "codemirror_mode": {
    "name": "ipython",
    "version": 3
   },
   "file_extension": ".py",
   "mimetype": "text/x-python",
   "name": "python",
   "nbconvert_exporter": "python",
   "pygments_lexer": "ipython3",
   "version": "3.9.12"
  }
 },
 "nbformat": 4,
 "nbformat_minor": 5
}
