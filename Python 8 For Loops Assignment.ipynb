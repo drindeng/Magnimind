{
 "cells": [
  {
   "cell_type": "code",
   "execution_count": 7,
   "id": "1db81245",
   "metadata": {},
   "outputs": [],
   "source": [
    "#1. Do the following to create a program that simulates how websites ensure that everyone has a unique username.\n",
    "\n",
    "#Make a list of five or more usernames called current_users.\n",
    "\n",
    "current_users = ['inci', 'sena', 'selma', 'ahsen', 'turker']"
   ]
  },
  {
   "cell_type": "code",
   "execution_count": 12,
   "id": "ce0ec9b9",
   "metadata": {},
   "outputs": [],
   "source": [
    "#Make another list of five usernames called new_users. Make sure one or two of the new usernames are also in the current_users list.\n",
    " \n",
    "new_users = ['ahsen','yasemin', 'altun','turker', 'turgay']"
   ]
  },
  {
   "cell_type": "code",
   "execution_count": 15,
   "id": "5c3192e8",
   "metadata": {},
   "outputs": [
    {
     "name": "stdout",
     "output_type": "stream",
     "text": [
      "Sorry ahsen is available. Pls enter a new username\n",
      "Great, yasemin is available.\n",
      "Great, altun is available.\n",
      "Sorry turker is available. Pls enter a new username\n",
      "Great, turgay is available.\n"
     ]
    }
   ],
   "source": [
    "#Loop through the new_users list to see if each new username has already been used. \n",
    "#If it has, print a message that the person will need to enter a new username. \n",
    "#If a username has not been used, print a message saying that the username is available.\n",
    "\n",
    "for i in new_users:\n",
    "    if i in current_users:\n",
    "        print(\"Sorry \" + i + \" is available. Pls enter a new username\")\n",
    "    else:\n",
    "        print(\"Great, \" + i + \" is available.\")"
   ]
  },
  {
   "cell_type": "code",
   "execution_count": 16,
   "id": "e258b3cb",
   "metadata": {},
   "outputs": [
    {
     "name": "stdout",
     "output_type": "stream",
     "text": [
      "You're an adult!\n"
     ]
    }
   ],
   "source": [
    "#3. Write an if-elif-else chain that determines a person’s stage of life.\n",
    "\n",
    "#Set a value for the variable age, and then:\n",
    "\n",
    "age = 35\n",
    "\n",
    "#If the person is less than 2 years old, print a message that the person is a baby.\n",
    "#If the person is at least 2 years old but less than 4, print a message that the person is a toddler.\n",
    "#If the person is at least 4 years old but less than 13, print a message that the person is a kid.\n",
    "#If the person is at least 13 years old but less than 20, print a message that the person is a teenager.\n",
    "#If the person is at least 20 years old but less than 65, print a message that the person is a adult\n",
    "#If the person is age 65 or older, print a message that the person is an elder.\n",
    "\n",
    "if age < 2:\n",
    "    print(\"You're a baby!\")\n",
    "elif age < 4:\n",
    "    print(\"You're a toddler!\")\n",
    "elif age < 13:\n",
    "    print(\"You're a kid!\")\n",
    "elif age < 20:\n",
    "    print(\"You're a teenager!\")\n",
    "elif age < 65:\n",
    "    print(\"You're an adult!\")\n",
    "else:\n",
    "    print(\"You're an elder!\")\n",
    "    \n",
    "\n"
   ]
  },
  {
   "cell_type": "code",
   "execution_count": 26,
   "id": "5a2b5911",
   "metadata": {},
   "outputs": [
    {
     "name": "stdout",
     "output_type": "stream",
     "text": [
      "1\n",
      "3\n"
     ]
    }
   ],
   "source": [
    "#4. process_data\n",
    "\n",
    "#You have a two-dimensional list in the following format:\n",
    "\n",
    "#data = [[2, 5], [3, 4], [8, 7]]\n",
    "\n",
    "#Each sub-list contains two items, and each item in the sub-lists is an integer.\n",
    "\n",
    "\n",
    "data = [[2, 5], [3, 4], [8, 7]]\n",
    "\n",
    "\n",
    "cik=0\n",
    "cikcarp=1\n",
    "\n",
    "for i in data:\n",
    "    cik = i[0]-i[1]\n",
    "print(cik)    \n",
    "\n",
    "for i in data:\n",
    "    cikcarp *= i[0]-i[1]\n",
    "    \n",
    "print(cikcarp)\n",
    "\n",
    "\n"
   ]
  }
 ],
 "metadata": {
  "kernelspec": {
   "display_name": "Python 3 (ipykernel)",
   "language": "python",
   "name": "python3"
  },
  "language_info": {
   "codemirror_mode": {
    "name": "ipython",
    "version": 3
   },
   "file_extension": ".py",
   "mimetype": "text/x-python",
   "name": "python",
   "nbconvert_exporter": "python",
   "pygments_lexer": "ipython3",
   "version": "3.9.12"
  }
 },
 "nbformat": 4,
 "nbformat_minor": 5
}
