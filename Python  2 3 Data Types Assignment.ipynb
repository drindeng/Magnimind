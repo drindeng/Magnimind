{
 "cells": [
  {
   "cell_type": "code",
   "execution_count": 27,
   "id": "1717b6fd",
   "metadata": {},
   "outputs": [
    {
     "name": "stdout",
     "output_type": "stream",
     "text": [
      "the final growth rate at the end of week= 1210.6814074060803\n"
     ]
    }
   ],
   "source": [
    "#Suppose you invested in Bitcoin at the end of 2020 when Bitcoin gained a lot of value. \n",
    "#What would be your money at the end of a week \n",
    "#if you had invested $1000 with an average daily increase of 12% ? \n",
    "#You can solve the problem using Python.\n",
    "\n",
    "#Create a variable capital ($1000)\n",
    "\n",
    "#Create a variable for daily growth (12%)\n",
    "\n",
    "#Create a variable for period (7)\n",
    "\n",
    "#Calculate the final growth rate\n",
    "\n",
    "#Calculate result\n",
    "\n",
    "#Print result\n",
    "\n",
    "Cap= 1000\n",
    "\n",
    "Growth= 0.12\n",
    "\n",
    "A1=Cap+Cap*Growth\n",
    "A2=A1+A1*Growth\n",
    "A3=A2+A2*Growth\n",
    "A4=A3+A3*Growth\n",
    "A5=A4+A4*Growth\n",
    "A6=A5+A5*Growth\n",
    "A7=A6+A6*Growth\n",
    "\n",
    "GrowthR=A7-Cap\n",
    "\n",
    "print (\"the final growth rate at the end of week=\", GrowthR)"
   ]
  },
  {
   "cell_type": "code",
   "execution_count": 3,
   "id": "0800d268",
   "metadata": {},
   "outputs": [
    {
     "name": "stdout",
     "output_type": "stream",
     "text": [
      "the final growth rate at the end of week= 1210.681\n",
      "when we buy bitcoin 1000 USD, we would earn 1210.681 USD, with an average gain of 12%\n"
     ]
    }
   ],
   "source": [
    "#end= cap * (1+Growth)^preiod\n",
    "\n",
    "Cap= 1000\n",
    "\n",
    "Growth= 12 #12%\n",
    "\n",
    "period=7\n",
    "\n",
    "end= Cap*pow(1+Growth*0.01,period)\n",
    "final= end-Cap\n",
    "\n",
    "\n",
    "print (\"the final growth rate at the end of week=\", round(final,3))\n",
    "print (\"when we buy bitcoin {0} USD, we would earn {1} USD, with an average gain of {2}%\".format(Cap,round(final,3),Growth))"
   ]
  },
  {
   "cell_type": "code",
   "execution_count": 4,
   "id": "37d1a6e2",
   "metadata": {},
   "outputs": [
    {
     "name": "stdout",
     "output_type": "stream",
     "text": [
      "Input the  temperature in Fahrenheit: 26\n",
      "The temperature in Celcius is -3.33 degrees.\n",
      "Temperature: -3.33°\n",
      "Temperature: -3.33°\n"
     ]
    }
   ],
   "source": [
    "#Get the temperature in Fahrenheit from user and write a code to convert it to Celcius. \n",
    "#For conversion, you can use this formula: C = (5/9) * (F - 32)\n",
    "#Enter the temperature in Fahrenheit:\n",
    "\n",
    "tempF = int(input(\"Input the  temperature in Fahrenheit: \"))\n",
    "\n",
    "tempC= ((tempF - 32) * 5 / 9)\n",
    "\n",
    "print(\"The temperature in Celcius is\", round (tempC,2), \"degrees.\")\n",
    "print('Temperature: {:.2f}\\N{DEGREE SIGN}'.format(tempC))\n",
    "print(f'Temperature: {tempC:.2f}\\N{DEGREE SIGN}')\n"
   ]
  },
  {
   "cell_type": "code",
   "execution_count": 5,
   "id": "4e09dcc8",
   "metadata": {},
   "outputs": [
    {
     "name": "stdout",
     "output_type": "stream",
     "text": [
      "Input a three digit number: 265\n",
      "The sum of digits in the number is 13\n"
     ]
    }
   ],
   "source": [
    "#Get a three digit number the from user and calculate the sum of the digits in the integer.\n",
    "\n",
    "Num= int(input(\"Input a three digit number: \"))\n",
    "\n",
    "Num1= Num//100\n",
    "Num2= (Num - Num1*100)//10\n",
    "Num3= Num - Num1*100 - Num2*10\n",
    "\n",
    "print(\"The sum of digits in the number is\", Num1+Num2+Num3)\n",
    "\n",
    "# floor operator = //\n"
   ]
  },
  {
   "cell_type": "code",
   "execution_count": 7,
   "id": "13b2f463",
   "metadata": {},
   "outputs": [
    {
     "name": "stdout",
     "output_type": "stream",
     "text": [
      "Input a three digit number: 365\n",
      "14\n"
     ]
    }
   ],
   "source": [
    "Numl= input(\"Input a three digit number: \")\n",
    "SUMl= int(Numl[0]) + int(Numl[1]) + int(Numl[2])\n",
    "print (SUMl)\n"
   ]
  },
  {
   "cell_type": "code",
   "execution_count": 8,
   "id": "1bb58f6c",
   "metadata": {},
   "outputs": [
    {
     "name": "stdout",
     "output_type": "stream",
     "text": [
      "Input a three digit number: 365\n",
      "14\n"
     ]
    }
   ],
   "source": [
    "Num2= input(\"Input a three digit number: \")\n",
    "\n",
    "sumN=0\n",
    "\n",
    "for i in Num2:\n",
    "    sumN=sumN+int(i)\n",
    "\n",
    "print(sumN)"
   ]
  },
  {
   "cell_type": "code",
   "execution_count": 19,
   "id": "58a451a4",
   "metadata": {},
   "outputs": [
    {
     "name": "stdout",
     "output_type": "stream",
     "text": [
      "Input side length: 9\n",
      "Input other side length: 8\n",
      "The length of the hypotenuse is: 12.041594578792296\n"
     ]
    }
   ],
   "source": [
    " #Write some code to calculate the hypotenuse of a right angled triangle. \n",
    "#Get the side lengths from the user.\n",
    "\n",
    "from math import sqrt\n",
    "\n",
    "Side1 = float(input(\"Input side length: \"))\n",
    "Side2 = float(input(\"Input other side length: \"))\n",
    "Hypo = sqrt(Side1**2 + Side2**2)\n",
    "print(\"The length of the hypotenuse is:\", Hypo )\n"
   ]
  },
  {
   "cell_type": "code",
   "execution_count": 16,
   "id": "f23c5a35",
   "metadata": {},
   "outputs": [
    {
     "name": "stdout",
     "output_type": "stream",
     "text": [
      "Input side lengths of a triangle: ex. 3,4: 3,4\n",
      "The length of the hypotenuse is 5.0\n",
      "hypotenuse is 5.0\n",
      "hypotenuse is 5.0\n"
     ]
    }
   ],
   "source": [
    "sides = input('Input side lengths of a triangle: ex. 3,4: ')\n",
    "\n",
    "s1,s2=sides.split(',')\n",
    "#print(s1)\n",
    "\n",
    "hypo2_sqr=float(s1)**2 + float(s2)**2\n",
    "hypo2=pow(hypo2_sqr,0.5)\n",
    "print('The length of the hypotenuse is {}'.format(hypo2))\n",
    "\n",
    "import math\n",
    "hypo3=math.sqrt(hypo2_sqr)\n",
    "print('hypotenuse is {}'.format(hypo3))\n",
    "\n",
    "import numpy as np\n",
    "hypo4=np.sqrt(hypo2_sqr)\n",
    "print('hypotenuse is {}'.format(hypo4))\n",
    "\n"
   ]
  }
 ],
 "metadata": {
  "kernelspec": {
   "display_name": "Python 3 (ipykernel)",
   "language": "python",
   "name": "python3"
  },
  "language_info": {
   "codemirror_mode": {
    "name": "ipython",
    "version": 3
   },
   "file_extension": ".py",
   "mimetype": "text/x-python",
   "name": "python",
   "nbconvert_exporter": "python",
   "pygments_lexer": "ipython3",
   "version": "3.9.12"
  }
 },
 "nbformat": 4,
 "nbformat_minor": 5
}
