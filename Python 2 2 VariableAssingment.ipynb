{
 "cells": [
  {
   "cell_type": "code",
   "execution_count": 10,
   "id": "1717b6fd",
   "metadata": {},
   "outputs": [
    {
     "name": "stdout",
     "output_type": "stream",
     "text": [
      "<class 'int'>\n",
      "<class 'str'>\n",
      "False\n"
     ]
    }
   ],
   "source": [
    "#Define two variables as x and y. Assign 1 to x and '1' to y. \n",
    "#Then check if two variables have the same value and type.\n",
    "\n",
    "x= 1\n",
    "y= '1'\n",
    "\n",
    "print(type(x)) \n",
    "print(type(y)) \n",
    "\n",
    "print(x==y)\n"
   ]
  },
  {
   "cell_type": "code",
   "execution_count": 2,
   "id": "3ef90c12",
   "metadata": {},
   "outputs": [
    {
     "name": "stdout",
     "output_type": "stream",
     "text": [
      "False\n",
      "False\n"
     ]
    }
   ],
   "source": [
    "x,y=1,'1'\n",
    "\n",
    "print (x==y)\n",
    "print (type(x)==type(y))\n"
   ]
  },
  {
   "cell_type": "code",
   "execution_count": 14,
   "id": "bae69377",
   "metadata": {},
   "outputs": [
    {
     "name": "stdout",
     "output_type": "stream",
     "text": [
      "<class 'int'>\n",
      "<class 'int'>\n",
      "True\n"
     ]
    }
   ],
   "source": [
    "#Change the type of variable y and make the two variables the same.\n",
    "\n",
    "Y= int(y)\n",
    "\n",
    "print(type(x)) \n",
    "print(type(Y))\n",
    "\n",
    "print(x==Y)"
   ]
  },
  {
   "cell_type": "code",
   "execution_count": 15,
   "id": "ac6ab094",
   "metadata": {},
   "outputs": [
    {
     "name": "stdout",
     "output_type": "stream",
     "text": [
      "<class 'str'>\n",
      "<class 'str'>\n",
      "True\n"
     ]
    }
   ],
   "source": [
    "#Change the type of variable x and make the two variables the same.\n",
    "\n",
    "X= str(x)\n",
    "\n",
    "print(type(X)) \n",
    "print(type(y))\n",
    "\n",
    "print(X==y)"
   ]
  }
 ],
 "metadata": {
  "kernelspec": {
   "display_name": "Python 3 (ipykernel)",
   "language": "python",
   "name": "python3"
  },
  "language_info": {
   "codemirror_mode": {
    "name": "ipython",
    "version": 3
   },
   "file_extension": ".py",
   "mimetype": "text/x-python",
   "name": "python",
   "nbconvert_exporter": "python",
   "pygments_lexer": "ipython3",
   "version": "3.9.12"
  }
 },
 "nbformat": 4,
 "nbformat_minor": 5
}
