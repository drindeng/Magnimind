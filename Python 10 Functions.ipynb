{
 "cells": [
  {
   "cell_type": "code",
   "execution_count": 24,
   "id": "8fbef324",
   "metadata": {},
   "outputs": [
    {
     "name": "stdout",
     "output_type": "stream",
     "text": [
      "Enter an  integer:     6\n",
      "6 is not a prime number\n"
     ]
    }
   ],
   "source": [
    "#1. Finding Prime Number\n",
    "num = int (input (\"Enter an  integer:     \"))\n",
    "  \n",
    "# If given number is greater than 1\n",
    "if num > 1:\n",
    "  \n",
    "    # Iterate from 2 to n / 2\n",
    "    for i in range(2, int(num/2)+1):\n",
    "  \n",
    "        # If num is divisible by any number between\n",
    "        # 2 and n / 2, it is not prime\n",
    "        if (num % i) == 0:\n",
    "            print(num, \"is not a prime number\")\n",
    "            break\n",
    "    else:\n",
    "        print(num, \"is a prime number\")\n",
    "  \n",
    "else:\n",
    "    print(num, \"is not a prime number\")\n"
   ]
  },
  {
   "cell_type": "code",
   "execution_count": 25,
   "id": "16bef9d2",
   "metadata": {},
   "outputs": [
    {
     "name": "stdout",
     "output_type": "stream",
     "text": [
      "20.1\n"
     ]
    }
   ],
   "source": [
    "#2. Rømer temperature\n",
    "\n",
    "def celsius_to_romer(celsius):\n",
    "  romer = celsius * (21/40) + 7.5\n",
    "  return romer\n",
    "\n",
    "print(celsius_to_romer(24))"
   ]
  },
  {
   "cell_type": "code",
   "execution_count": 28,
   "id": "efcbe6e2",
   "metadata": {},
   "outputs": [
    {
     "name": "stdout",
     "output_type": "stream",
     "text": [
      "True\n",
      "False\n"
     ]
    }
   ],
   "source": [
    "#3. Pixelart planning\n",
    "\n",
    "def is_divisible(wall_size_mm, pixel_size_mm):\n",
    "  calculate = wall_size_mm % pixel_size_mm == 0\n",
    "  return calculate\n",
    "\n",
    "\n",
    "print(is_divisible(4050, 27))\n",
    "print(is_divisible(4066, 27))\n"
   ]
  },
  {
   "cell_type": "code",
   "execution_count": 29,
   "id": "d44e1235",
   "metadata": {},
   "outputs": [
    {
     "name": "stdout",
     "output_type": "stream",
     "text": [
      "0.6\n"
     ]
    }
   ],
   "source": [
    "#4. Blue and red marbles\n",
    "\n",
    "def guess_blue(blue_marbles, red_marbles, blue_marbles_pulled, red_marbles_pulled):\n",
    "  blue_left = blue_marbles - blue_marbles_pulled\n",
    "  red_left = red_marbles - red_marbles_pulled\n",
    "  total_left = blue_left + red_left\n",
    "  probability = blue_left / total_left\n",
    "  return probability\n",
    "\n",
    "print(guess_blue(5, 5, 2, 3))"
   ]
  },
  {
   "cell_type": "code",
   "execution_count": null,
   "id": "e35adb00",
   "metadata": {},
   "outputs": [],
   "source": [
    "#5. Fillable"
   ]
  },
  {
   "cell_type": "code",
   "execution_count": null,
   "id": "700cc43d",
   "metadata": {},
   "outputs": [],
   "source": [
    "#6. Write a function called take_umbrella\n",
    "\n"
   ]
  }
 ],
 "metadata": {
  "kernelspec": {
   "display_name": "Python 3 (ipykernel)",
   "language": "python",
   "name": "python3"
  },
  "language_info": {
   "codemirror_mode": {
    "name": "ipython",
    "version": 3
   },
   "file_extension": ".py",
   "mimetype": "text/x-python",
   "name": "python",
   "nbconvert_exporter": "python",
   "pygments_lexer": "ipython3",
   "version": "3.9.12"
  }
 },
 "nbformat": 4,
 "nbformat_minor": 5
}
