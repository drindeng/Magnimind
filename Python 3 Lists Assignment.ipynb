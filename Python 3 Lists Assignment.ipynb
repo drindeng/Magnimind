{
 "cells": [
  {
   "cell_type": "code",
   "execution_count": 32,
   "id": "1717b6fd",
   "metadata": {},
   "outputs": [
    {
     "name": "stdout",
     "output_type": "stream",
     "text": [
      "sorted the list ascending : [2, 12, 34, 37, 45, 54, 56, 66, 67, 76, 98]\n",
      "the sum of the two lowest numbers:  14\n",
      "the sum of the two highest numbers:  174\n"
     ]
    }
   ],
   "source": [
    "#1  W1rite a code to compute the sum of the two lowest numbers and the two highest numbers in the following list.\n",
    "##my_list = [34, 56, 76, 45, 2, 12, 67, 98, 37, 54, 66]\n",
    "\n",
    "my_list = [34, 56, 76, 45, 2, 12, 67, 98, 37, 54, 66]\n",
    "\n",
    "my_listA= sorted(my_list)\n",
    "#my_listD= sorted(my_list, reverse=True)\n",
    "\n",
    "print (\"sorted the list ascending :\", my_listA)\n",
    "#print (\"sorted the list descending :\", my_listD)\n",
    "\n",
    "Sumof2LOW= my_listA [0]+my_listA[1]\n",
    "Sumof2HIG= my_listA [-1]+my_listA[-2]\n",
    "\n",
    "print (\"the sum of the two lowest numbers: \", Sumof2LOW)\n",
    "print (\"the sum of the two highest numbers: \", Sumof2HIG)\n",
    "\n",
    "\n"
   ]
  },
  {
   "cell_type": "code",
   "execution_count": null,
   "id": "47ba4edf",
   "metadata": {},
   "outputs": [],
   "source": [
    "#2  The following two lists contain student names and scores. \n",
    "#Write a code that gets the name from the user and prints the score of that student.\n",
    "#names = [\"David\", \"Michael\", \"John\", \"James\", \"Greg\", \"Mark\", \"William\", \"Richard\", \"Thomas\", \"Steven\",\"Mary\", \"Susan\", \"Maria\", \"Karen\", \"Lisa\", \"Linda\", \"Donna\", \"Patricia\", \"Debra\", \"Eric\"]\n",
    "#scores = [99, 87, 78, 86, 68, 94, 76, 97, 56, 98, 76, 87, 79, 90, 73, 93, 82, 69, 97, 98]"
   ]
  },
  {
   "cell_type": "code",
   "execution_count": null,
   "id": "64b34812",
   "metadata": {},
   "outputs": [],
   "source": [
    "#3  By using the two lists above, what is the maximum score and how many students got that score?"
   ]
  },
  {
   "cell_type": "code",
   "execution_count": null,
   "id": "ed1d1ecb",
   "metadata": {},
   "outputs": [],
   "source": [
    "#4  We can confuse about how many days a month is. Create a list to handle it. \n",
    "#You will have month names and day counts in your list together as a nested list.\n",
    "\n",
    "list_of_Month = [['January',31], ['February',28], ['March',31], ['April',30],['May',31], ['June',30], ['July', 31], ['August',31], ['September',30], ['October', 31], ['November',30], ['December', 31] ]\n"
   ]
  },
  {
   "cell_type": "code",
   "execution_count": 39,
   "id": "f9a8cd63",
   "metadata": {},
   "outputs": [
    {
     "name": "stdout",
     "output_type": "stream",
     "text": [
      "Months of Winter :  [['January', 31], ['February', 28], ['March', 31]]\n",
      "Months of Spring :  [['April', 30], ['May', 31], ['June', 30]]\n",
      "Months of Summer :  [['July', 31], ['August', 31], ['September', 30]]\n",
      "Months of Autumn :  [['October', 31], ['November', 30], ['December', 31]]\n"
     ]
    }
   ],
   "source": [
    " #Now create lists of months for each season. \n",
    "#Get month names and day counts from the list that you create before with slicing. \n",
    "#Name the lists with seasons.\n",
    "\n",
    "list_of_Month = [['January',31], ['February',28], ['March',31], ['April',30],['May',31], ['June',30], ['July', 31], ['August',31], ['September',30], ['October', 31], ['November',30], ['December', 31] ]\n",
    "\n",
    "\n",
    "list_of_WINTERMonths = list_of_Month[:3]\n",
    "print (\"Months of Winter : \", list_of_WINTERMonths)\n",
    "\n",
    "list_of_SPRINGMonths = list_of_Month[3:6]\n",
    "print (\"Months of Spring : \", list_of_SPRINGMonths)\n",
    "\n",
    "list_of_SUMMERMonths = list_of_Month[6:9]\n",
    "print (\"Months of Summer : \", list_of_SUMMERMonths)\n",
    "\n",
    "list_of_AUTUMNMonths = list_of_Month[9:12]\n",
    "print (\"Months of Autumn : \", list_of_AUTUMNMonths)\n"
   ]
  },
  {
   "cell_type": "code",
   "execution_count": 52,
   "id": "15eebdba",
   "metadata": {},
   "outputs": [
    {
     "name": "stdout",
     "output_type": "stream",
     "text": [
      "Months of Summer :  [['July', 31], ['August', 31], ['September', 30]]\n",
      "July  has 31  days\n",
      "August  has 31  days\n",
      "September  has 30  days\n",
      "Months of Summer have  92  day\n"
     ]
    }
   ],
   "source": [
    "#Finally, from the list in the previous question, calculate how many days the summer season lasts.\n",
    "\n",
    "list_of_Month = [['January',31], ['February',28], ['March',31], ['April',30],['May',31], ['June',30], ['July', 31], ['August',31], ['September',30], ['October', 31], ['November',30], ['December', 31] ]\n",
    "list_of_SUMMERMonths = list_of_Month[6:9]\n",
    "print (\"Months of Summer : \", list_of_SUMMERMonths)\n",
    "\n",
    "\n",
    "M1=list_of_SUMMERMonths[0][0]\n",
    "M2=list_of_SUMMERMonths[1][0]\n",
    "M3=list_of_SUMMERMonths[2][0]\n",
    "\n",
    "D1= list_of_SUMMERMonths[0][1]\n",
    "D2= list_of_SUMMERMonths[1][1]\n",
    "D3= list_of_SUMMERMonths[2][1]\n",
    "\n",
    "print (M1, \" has\", D1, \" days\")\n",
    "print (M2, \" has\", D2, \" days\")\n",
    "print (M3, \" has\", D3, \" days\")\n",
    "\n",
    "SUM= D1+D2+D3\n",
    "\n",
    "print (\"Months of Summer have \", SUM, \" days\" )"
   ]
  }
 ],
 "metadata": {
  "kernelspec": {
   "display_name": "Python 3 (ipykernel)",
   "language": "python",
   "name": "python3"
  },
  "language_info": {
   "codemirror_mode": {
    "name": "ipython",
    "version": 3
   },
   "file_extension": ".py",
   "mimetype": "text/x-python",
   "name": "python",
   "nbconvert_exporter": "python",
   "pygments_lexer": "ipython3",
   "version": "3.9.12"
  }
 },
 "nbformat": 4,
 "nbformat_minor": 5
}
