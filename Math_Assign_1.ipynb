{
 "cells": [
  {
   "cell_type": "code",
   "execution_count": 1,
   "metadata": {},
   "outputs": [],
   "source": [
    "#Write a NumPy program to convert a list of numeric value into a one-dimensional NumPy array."
   ]
  },
  {
   "cell_type": "code",
   "execution_count": 2,
   "metadata": {},
   "outputs": [
    {
     "name": "stdout",
     "output_type": "stream",
     "text": [
      "[ 12.23  13.32 100.    36.32]\n",
      "[12.23, 13.32, 100, 36.32]\n",
      "List = [12.23, 13.32, 100, 36.32]\n",
      "\n",
      "Array = [ 12.23  13.32 100.    36.32]\n"
     ]
    }
   ],
   "source": [
    "import numpy as np\n",
    "original_list1 = [12.23, 13.32, 100, 36.32]\n",
    "myarray1 = np. array (original_list1)\n",
    "print (myarray1)\n",
    "print (original_list1)\n",
    "\n",
    "print(f'List = {original_list1}')\n",
    "print(f'\\nArray = {myarray1}')"
   ]
  },
  {
   "cell_type": "code",
   "execution_count": 3,
   "metadata": {},
   "outputs": [
    {
     "name": "stdout",
     "output_type": "stream",
     "text": [
      "[[ 2  3  4]\n",
      " [ 5  6  7]\n",
      " [ 8  9 10]]\n"
     ]
    }
   ],
   "source": [
    "import numpy as np\n",
    "q2 = [[2,3,4],[5,6,7],[8,9,10]]\n",
    "myarray2 = np. array (q2)\n",
    "print (myarray2)"
   ]
  },
  {
   "cell_type": "code",
   "execution_count": 7,
   "metadata": {},
   "outputs": [
    {
     "name": "stdout",
     "output_type": "stream",
     "text": [
      "[ 2  3  4  5  6  7  8  9 10]\n"
     ]
    }
   ],
   "source": [
    "import numpy as np\n",
    "arrayT=np.array([2,3,4,5,6,7,8,9,10])\n",
    "print(arrayT)"
   ]
  },
  {
   "cell_type": "code",
   "execution_count": 11,
   "metadata": {},
   "outputs": [
    {
     "name": "stdout",
     "output_type": "stream",
     "text": [
      "[ 2  3  4  5  6  7  8  9 10]\n",
      "\n",
      " [[ 2  3  4]\n",
      " [ 5  6  7]\n",
      " [ 8  9 10]]\n"
     ]
    }
   ],
   "source": [
    "import numpy as np\n",
    "q2_= np.arange(2,11)\n",
    "print (q2_)\n",
    "\n",
    "q2_=q2_.reshape(3,3)\n",
    "print('\\n',q2_)"
   ]
  },
  {
   "cell_type": "code",
   "execution_count": 23,
   "metadata": {},
   "outputs": [
    {
     "name": "stdout",
     "output_type": "stream",
     "text": [
      "[0. 0. 0. 0. 0. 0. 0. 0. 0. 0.]\n",
      "[ 0.  0.  0.  0.  0.  0. 11.  0.  0.  0.]\n"
     ]
    }
   ],
   "source": [
    "myarray3 = np.zeros(10)\n",
    "print (myarray3) \n",
    "myarray3 [6]= 11\n",
    "print (myarray3)"
   ]
  },
  {
   "cell_type": "code",
   "execution_count": 26,
   "metadata": {},
   "outputs": [
    {
     "name": "stdout",
     "output_type": "stream",
     "text": [
      "[12 13 14 15 16 17 18 19]\n"
     ]
    }
   ],
   "source": [
    "myarray4 = np.arange(12,20)\n",
    "print (myarray4) "
   ]
  },
  {
   "cell_type": "code",
   "execution_count": 29,
   "metadata": {},
   "outputs": [
    {
     "name": "stdout",
     "output_type": "stream",
     "text": [
      "[20 19 18 17 16 15 14 13 12]\n"
     ]
    }
   ],
   "source": [
    "myarray5 = np.arange(12,21)\n",
    "myarray5_ = myarray5 [::-1] #ters sıralıyor\n",
    "\n",
    "print (myarray5_)"
   ]
  },
  {
   "cell_type": "code",
   "execution_count": 32,
   "metadata": {},
   "outputs": [
    {
     "name": "stdout",
     "output_type": "stream",
     "text": [
      "[1. 2. 3. 4.]\n"
     ]
    }
   ],
   "source": [
    "myarray6 = np.arange(1,5)\n",
    "myarray6_ = np.asfarray (myarray6)\n",
    "print (myarray6_)"
   ]
  },
  {
   "cell_type": "code",
   "execution_count": 56,
   "metadata": {},
   "outputs": [
    {
     "name": "stdout",
     "output_type": "stream",
     "text": [
      "[[1. 1. 1. 1. 1.]\n",
      " [1. 1. 1. 1. 1.]\n",
      " [1. 1. 1. 1. 1.]\n",
      " [1. 1. 1. 1. 1.]\n",
      " [1. 1. 1. 1. 1.]]\n",
      "[[1. 1. 1. 1. 1.]\n",
      " [1. 0. 0. 0. 1.]\n",
      " [1. 0. 0. 0. 1.]\n",
      " [1. 0. 0. 0. 1.]\n",
      " [1. 1. 1. 1. 1.]]\n"
     ]
    }
   ],
   "source": [
    "q7 = np.ones((5, 5))\n",
    "print (q7)\n",
    "q7 [1:-1, 1:-1]= 0\n",
    "\n",
    "print (q7)\n"
   ]
  },
  {
   "cell_type": "code",
   "execution_count": 61,
   "metadata": {},
   "outputs": [
    {
     "name": "stdout",
     "output_type": "stream",
     "text": [
      "[[1. 1. 1.]\n",
      " [1. 1. 1.]\n",
      " [1. 1. 1.]]\n",
      "[[0. 0. 0. 0. 0.]\n",
      " [0. 1. 1. 1. 0.]\n",
      " [0. 1. 1. 1. 0.]\n",
      " [0. 1. 1. 1. 0.]\n",
      " [0. 0. 0. 0. 0.]]\n"
     ]
    }
   ],
   "source": [
    "q8 = np.ones((3, 3))\n",
    "print (q8)\n",
    "\n",
    "q8_ = np.pad (q8, pad_width=1, mode='constant', constant_values=0)\n",
    "print (q8_)"
   ]
  },
  {
   "cell_type": "code",
   "execution_count": 9,
   "metadata": {},
   "outputs": [
    {
     "name": "stdout",
     "output_type": "stream",
     "text": [
      "[[0. 0. 0. 0. 0.]\n",
      " [0. 0. 0. 0. 0.]\n",
      " [0. 0. 0. 0. 0.]\n",
      " [0. 0. 0. 0. 0.]\n",
      " [0. 0. 0. 0. 0.]]\n"
     ]
    }
   ],
   "source": [
    "q8h= np.ones((3,3))\n",
    "q8h2= np.zeros ((q8h.shape[0]+2, q8h.shape[1]+2))\n",
    "print(q8h2)"
   ]
  },
  {
   "cell_type": "code",
   "execution_count": 83,
   "metadata": {},
   "outputs": [
    {
     "name": "stdout",
     "output_type": "stream",
     "text": [
      "[[0. 0. 0. 0. 0. 0. 0. 0.]\n",
      " [0. 0. 0. 0. 0. 0. 0. 0.]\n",
      " [0. 0. 0. 0. 0. 0. 0. 0.]\n",
      " [0. 0. 0. 0. 0. 0. 0. 0.]\n",
      " [0. 0. 0. 0. 0. 0. 0. 0.]\n",
      " [0. 0. 0. 0. 0. 0. 0. 0.]\n",
      " [0. 0. 0. 0. 0. 0. 0. 0.]\n",
      " [0. 0. 0. 0. 0. 0. 0. 0.]]\n",
      "[[0. 1. 0. 1. 0. 1. 0. 1.]\n",
      " [1. 0. 1. 0. 1. 0. 1. 0.]\n",
      " [0. 1. 0. 1. 0. 1. 0. 1.]\n",
      " [1. 0. 1. 0. 1. 0. 1. 0.]\n",
      " [0. 1. 0. 1. 0. 1. 0. 1.]\n",
      " [1. 0. 1. 0. 1. 0. 1. 0.]\n",
      " [0. 1. 0. 1. 0. 1. 0. 1.]\n",
      " [1. 0. 1. 0. 1. 0. 1. 0.]]\n"
     ]
    }
   ],
   "source": [
    "q9 = np.zeros((8, 8))\n",
    "print (q9)\n",
    "q9 [1::2, ::2]= 1\n",
    "q9 [::2, 1::2]= 1\n",
    "print (q9)"
   ]
  },
  {
   "cell_type": "code",
   "execution_count": 92,
   "metadata": {},
   "outputs": [
    {
     "name": "stdout",
     "output_type": "stream",
     "text": [
      "([8, 4, 6], [1, 2, 3])\n",
      "[[8 4 6]\n",
      " [1 2 3]]\n"
     ]
    }
   ],
   "source": [
    "q10 = ([8, 4, 6], [1, 2,3])\n",
    "print (q10)\n",
    "q10_ = np.asarray(q10)\n",
    "print (q10_)"
   ]
  },
  {
   "cell_type": "code",
   "execution_count": null,
   "metadata": {},
   "outputs": [],
   "source": [
    "mylist= [1,2,3,4,5,6,7,8]\n",
    "np.asarray(mylist)\n",
    "\n",
    "mytuple="
   ]
  },
  {
   "cell_type": "code",
   "execution_count": 96,
   "metadata": {},
   "outputs": [
    {
     "name": "stdout",
     "output_type": "stream",
     "text": [
      "[10 20 30 40 50 60 70 80 90]\n"
     ]
    }
   ],
   "source": [
    "q11 = [10,20,30]\n",
    "q11_= np.append (q11, [[40,50,60],[70,80,90]])\n",
    "print (q11_)"
   ]
  },
  {
   "cell_type": "code",
   "execution_count": 17,
   "metadata": {},
   "outputs": [
    {
     "name": "stdout",
     "output_type": "stream",
     "text": [
      "[10 20 30 40 50 60 70 80 90]\n"
     ]
    }
   ],
   "source": [
    "q11T = [10,20,30]\n",
    "q11T=np.hstack([q11T, [40,50,60,70,80,90]])\n",
    "print(q11T)"
   ]
  },
  {
   "cell_type": "code",
   "execution_count": 7,
   "metadata": {},
   "outputs": [
    {
     "name": "stdout",
     "output_type": "stream",
     "text": [
      "[-17.77777778 -11.11111111   7.33888889   1.11111111  37.72777778]\n",
      "[-0.   12.   45.21 34.   99.91]\n"
     ]
    }
   ],
   "source": [
    "import numpy as np\n",
    "Cen = [-17.77777778, -11.11111111, 7.33888889, 1.11111111, 37.72777778]\n",
    "\n",
    "q12_C = np.array(Cen)\n",
    "\n",
    "print(q12_C)\n",
    "print(np.round((9*q12_C/5 + 32),2)) #virgülden sonra 2 hane"
   ]
  },
  {
   "cell_type": "code",
   "execution_count": 9,
   "metadata": {},
   "outputs": [
    {
     "name": "stdout",
     "output_type": "stream",
     "text": [
      "Size:  3\n",
      "Length:  8\n",
      "Total bytes:  24\n"
     ]
    }
   ],
   "source": [
    "q13 = np.array([1,2,3], dtype=np.float64)\n",
    "print(\"Size: \", q13.size)\n",
    "print(\"Length: \", q13.itemsize)\n",
    "print(\"Total bytes: \", q13.nbytes)"
   ]
  },
  {
   "cell_type": "code",
   "execution_count": 11,
   "metadata": {},
   "outputs": [
    {
     "name": "stdout",
     "output_type": "stream",
     "text": [
      "[ 0 10 20 40 60]\n",
      "[10 30 40]\n",
      "[10 40]\n"
     ]
    }
   ],
   "source": [
    "q14_1 = np.array([0, 10, 20, 40, 60])\n",
    "print(q14_1)\n",
    "q14_2 = np.array ([10, 30, 40])\n",
    "print(q14_2)\n",
    "\n",
    "print(np.intersect1d(q14_1, q14_2)) #iki dizideki ortak elemanlar"
   ]
  },
  {
   "cell_type": "code",
   "execution_count": 18,
   "metadata": {},
   "outputs": [
    {
     "name": "stdout",
     "output_type": "stream",
     "text": [
      "{0, 40, 10, 20, 60}\n"
     ]
    }
   ],
   "source": [
    "q14_1T = np.array([0, 10, 20, 40, 60])\n",
    "q14_2T = np.array ([10, 30, 40])\n",
    "\n",
    "print(set(q14_1T))"
   ]
  },
  {
   "cell_type": "code",
   "execution_count": 12,
   "metadata": {},
   "outputs": [
    {
     "name": "stdout",
     "output_type": "stream",
     "text": [
      "[10 10 20 20 30 30]\n",
      "[10 20 30]\n"
     ]
    }
   ],
   "source": [
    "q15 = np.array([10, 10, 20, 20, 30, 30])\n",
    "\n",
    "print(q15)\n",
    "\n",
    "print(np.unique(q15))"
   ]
  },
  {
   "cell_type": "code",
   "execution_count": null,
   "metadata": {},
   "outputs": [],
   "source": []
  },
  {
   "cell_type": "code",
   "execution_count": 17,
   "metadata": {},
   "outputs": [
    {
     "name": "stdout",
     "output_type": "stream",
     "text": [
      "[ 0 10 20 40 60 80]\n",
      "[10 30 40 50 70]\n",
      "[ 0 20 60 80]\n",
      "[30 50 70]\n"
     ]
    }
   ],
   "source": [
    "q16_1 = np.array([0, 10, 20, 40, 60, 80])\n",
    "print(q16_1)\n",
    "q16_2 = np.array([10, 30, 40, 50, 70])\n",
    "print(q16_2)\n",
    "\n",
    "print(np.setdiff1d(q16_1, q16_2)) #1 de olup 2 de olmayan\n",
    "print(np.setdiff1d(q16_2, q16_1)) #2 de olup 1 de olmayan"
   ]
  },
  {
   "cell_type": "code",
   "execution_count": 18,
   "metadata": {},
   "outputs": [
    {
     "name": "stdout",
     "output_type": "stream",
     "text": [
      "[ 0 10 20 40 60 80]\n",
      "[10 30 40 50 70]\n",
      "[ 0 20 30 50 60 70 80]\n"
     ]
    }
   ],
   "source": [
    "q17_1 = np.array([0, 10, 20, 40, 60, 80])\n",
    "print(q17_1)\n",
    "q17_2 = np.array([10, 30, 40, 50, 70])\n",
    "print(q17_2)\n",
    "\n",
    "print(np.setxor1d(q17_1, q17_2)) #iki dizide farklı olanları yaz\n"
   ]
  },
  {
   "cell_type": "code",
   "execution_count": 22,
   "metadata": {},
   "outputs": [
    {
     "name": "stdout",
     "output_type": "stream",
     "text": [
      "[ 0 10 20 40 60 80]\n",
      "[10 30 40 50 70]\n"
     ]
    }
   ],
   "source": [
    "q17_1T = np.array([0, 10, 20, 40, 60, 80])\n",
    "print(q17_1T)\n",
    "q17_2T = np.array([10, 30, 40, 50, 70])\n",
    "print(q17_2T)\n",
    "\n",
    "#set(q17_1T).synmetric_difference(q17_2T)"
   ]
  },
  {
   "cell_type": "code",
   "execution_count": 23,
   "metadata": {},
   "outputs": [
    {
     "name": "stdout",
     "output_type": "stream",
     "text": [
      "[ 0 10 20 40 60 80]\n",
      "[10 30 40 50 70]\n",
      "[ 0 10 20 30 40 50 60 70 80]\n"
     ]
    }
   ],
   "source": [
    "q18_1 = np.array([ 0, 10, 20, 40, 60, 80])\n",
    "print(q18_1)\n",
    "q18_2 = np.array([10, 30, 40, 50, 70])\n",
    "print(q18_2)\n",
    "\n",
    "print(np.union1d(q18_1, q18_2))\n"
   ]
  },
  {
   "cell_type": "code",
   "execution_count": 24,
   "metadata": {},
   "outputs": [
    {
     "name": "stdout",
     "output_type": "stream",
     "text": [
      "False\n",
      "True\n",
      "False\n",
      "True\n"
     ]
    }
   ],
   "source": [
    "print(np.all([[True,False],[True,True]]))\n",
    "print(np.all([[True,True],[True,True]]))\n",
    "print(np.all([10, 20, 0, -50]))\n",
    "print(np.all([10, 20, -50]))\n"
   ]
  },
  {
   "cell_type": "code",
   "execution_count": 24,
   "metadata": {},
   "outputs": [
    {
     "data": {
      "text/plain": [
       "True"
      ]
     },
     "execution_count": 24,
     "metadata": {},
     "output_type": "execute_result"
    }
   ],
   "source": [
    "AT= np.array([10,20,0,-50])\n",
    "AT.all() #one element is True\n",
    "\n",
    "AT1=np.array([10,20,0,-50])\n",
    "AT1.any() #one element are zero or False\n",
    "\n"
   ]
  },
  {
   "cell_type": "code",
   "execution_count": 25,
   "metadata": {},
   "outputs": [
    {
     "name": "stdout",
     "output_type": "stream",
     "text": [
      "[1 2 3 4 5 6]\n",
      "5\n",
      "0\n"
     ]
    }
   ],
   "source": [
    "q20 = np.array([1, 2, 3, 4, 5, 6])\n",
    "print (q20)\n",
    "print(np.argmax(q20)) #maximum değerin index karşılığı\n",
    "print(np.argmin(q20)) #min değerin index karşılığı\n"
   ]
  },
  {
   "cell_type": "code",
   "execution_count": 25,
   "metadata": {},
   "outputs": [
    {
     "name": "stdout",
     "output_type": "stream",
     "text": [
      "[[ 0 10 20]\n",
      " [20 30 40]]\n",
      "[20 20 30 40]\n",
      "(array([0, 1, 1, 1], dtype=int64), array([2, 0, 1, 2], dtype=int64))\n",
      "(array([0, 1, 1, 1], dtype=int64), array([2, 0, 1, 2], dtype=int64))\n"
     ]
    }
   ],
   "source": [
    "q21 = np.array([[0, 10, 20], [20, 30, 40]])\n",
    "\n",
    "print(q21)\n",
    "print(q21[q21>10]) #10 dan büyük değerler\n",
    "print(np.nonzero(q21 > 10)) #10 dan büyük değerlerin index\n",
    "print(np.where(q21 > 10)) #10 dan büyük değerlerin index\n"
   ]
  },
  {
   "cell_type": "code",
   "execution_count": 27,
   "metadata": {},
   "outputs": [
    {
     "data": {
      "text/plain": [
       "array([0., 0.])"
      ]
     },
     "execution_count": 27,
     "metadata": {},
     "output_type": "execute_result"
    }
   ],
   "source": [
    "np.zeros(2)"
   ]
  },
  {
   "cell_type": "code",
   "execution_count": 29,
   "metadata": {},
   "outputs": [
    {
     "data": {
      "text/plain": [
       "array([[[0., 0.],\n",
       "        [0., 0.],\n",
       "        [0., 0.]],\n",
       "\n",
       "       [[0., 0.],\n",
       "        [0., 0.],\n",
       "        [0., 0.]]])"
      ]
     },
     "execution_count": 29,
     "metadata": {},
     "output_type": "execute_result"
    }
   ],
   "source": [
    "np.zeros([2,3])"
   ]
  },
  {
   "cell_type": "code",
   "execution_count": 30,
   "metadata": {},
   "outputs": [
    {
     "data": {
      "text/plain": [
       "array([[[0., 0.],\n",
       "        [0., 0.],\n",
       "        [0., 0.]],\n",
       "\n",
       "       [[0., 0.],\n",
       "        [0., 0.],\n",
       "        [0., 0.]]])"
      ]
     },
     "execution_count": 30,
     "metadata": {},
     "output_type": "execute_result"
    }
   ],
   "source": [
    "np.zeros([2,3,2])"
   ]
  },
  {
   "cell_type": "code",
   "execution_count": 32,
   "metadata": {},
   "outputs": [
    {
     "name": "stdout",
     "output_type": "stream",
     "text": [
      "[[10 20 30]\n",
      " [20 40 50]]\n",
      "[10 20 30 20 40 50]\n"
     ]
    }
   ],
   "source": [
    "q23 = np.array([[10, 20, 30], [20, 40, 50]])\n",
    "\n",
    "print(q23)\n",
    "q23_2R = np.ravel(q23)\n",
    "#q23_2F = np.flatten(q23)\n",
    "print(q23_2R)\n",
    "#print(q23_2F)"
   ]
  },
  {
   "cell_type": "code",
   "execution_count": 30,
   "metadata": {},
   "outputs": [
    {
     "name": "stdout",
     "output_type": "stream",
     "text": [
      "[[1 2]\n",
      " [3 4]\n",
      " [5 6]]\n",
      "[[1 2 3]\n",
      " [4 5 6]]\n"
     ]
    }
   ],
   "source": [
    "q24_1 = np.array([1, 2, 3, 4, 5, 6])\n",
    "q24_2 = np.reshape(q24_1,(3,2))\n",
    "\n",
    "print(q24_2)\n",
    "\n",
    "q24_3 = np.reshape(q24_1,(2,3))\n",
    "\n",
    "print(q24_3)"
   ]
  },
  {
   "cell_type": "code",
   "execution_count": 34,
   "metadata": {},
   "outputs": [
    {
     "name": "stdout",
     "output_type": "stream",
     "text": [
      "[[1 2]\n",
      " [3 4]\n",
      " [5 6]]\n"
     ]
    }
   ],
   "source": [
    "q24_1T=np.array([1, 2, 3, 4, 5, 6])\n",
    "q24_1T=q24_1T.reshape(3,2)\n",
    "print(q24_1T)"
   ]
  },
  {
   "cell_type": "code",
   "execution_count": 33,
   "metadata": {},
   "outputs": [
    {
     "name": "stdout",
     "output_type": "stream",
     "text": [
      "[[ 2  4  6]\n",
      " [ 6  8 10]]\n",
      "int32\n",
      "float64\n",
      "[[ 2.  4.  6.]\n",
      " [ 6.  8. 10.]]\n"
     ]
    }
   ],
   "source": [
    "q25 = np.array([[2, 4, 6], [6, 8, 10]], np.int32)\n",
    "print(q25)\n",
    "print(q25.dtype)\n",
    "\n",
    "q25_1= q25.astype(float)\n",
    "print(q25_1.dtype)\n",
    "print(q25_1)"
   ]
  },
  {
   "cell_type": "code",
   "execution_count": null,
   "metadata": {},
   "outputs": [],
   "source": []
  },
  {
   "cell_type": "code",
   "execution_count": 35,
   "metadata": {},
   "outputs": [
    {
     "name": "stdout",
     "output_type": "stream",
     "text": [
      "[  100.           141.25375446   199.5262315    281.83829313\n",
      "   398.10717055   562.34132519   794.32823472  1122.0184543\n",
      "  1584.89319246  2238.72113857  3162.27766017  4466.83592151\n",
      "  6309.5734448   8912.50938134 12589.25411794 17782.79410039\n",
      " 25118.8643151  35481.33892336 50118.72336273 70794.57843841]\n"
     ]
    }
   ],
   "source": [
    "q26 =  np.logspace(2., 5., 20, endpoint=False)\n",
    "print(q26)"
   ]
  },
  {
   "cell_type": "code",
   "execution_count": 38,
   "metadata": {},
   "outputs": [
    {
     "name": "stdout",
     "output_type": "stream",
     "text": [
      "[[ 0  1  3  0  2  4]\n",
      " [ 5  7  9  6  8 10]]\n"
     ]
    }
   ],
   "source": [
    "q27_1 = np.array([[0, 1, 3], [5, 7, 9]])\n",
    "q27_2 = np.array([[0, 2, 4], [6, 8, 10]])\n",
    "q27_12 = np.concatenate((q27_1, q27_2), 1)\n",
    "print(q27_12)\n"
   ]
  },
  {
   "cell_type": "code",
   "execution_count": 48,
   "metadata": {},
   "outputs": [
    {
     "name": "stdout",
     "output_type": "stream",
     "text": [
      "[[ 0  2  4]\n",
      " [ 6  8 10]]\n",
      "[[ 1  3  5]\n",
      " [ 7  9 11]]\n",
      "*Denemeler*Denemeler*Denemeler*Denemeler*Denemeler*Denemeler*Denemeler*Denemeler*Denemeler*Denemeler*Denemeler*Denemeler*Denemeler*Denemeler*Denemeler*Denemeler*Denemeler*Denemeler*Denemeler*Denemeler\n",
      "[[ 0  2  4  1  3  5]\n",
      " [ 6  8 10  7  9 11]]\n",
      "********************\n",
      "[[ 1  3  5  0  2  4]\n",
      " [ 7  9 11  6  8 10]]\n",
      "********************\n",
      "[[ 0  2  4]\n",
      " [ 6  8 10]\n",
      " [ 1  3  5]\n",
      " [ 7  9 11]]\n",
      "********************\n",
      "[[ 1  3  5]\n",
      " [ 7  9 11]\n",
      " [ 0  2  4]\n",
      " [ 6  8 10]]\n",
      "********************\n",
      "[[ 0  2  4  1  3  5]\n",
      " [ 6  8 10  7  9 11]]\n",
      "********************\n",
      "[[ 1  3  5  0  2  4]\n",
      " [ 7  9 11  6  8 10]]\n",
      "********************\n"
     ]
    }
   ],
   "source": [
    "#27\n",
    "\n",
    "AT= np.arange(12)\n",
    "AT_even=  AT[AT%2==0].reshape(2,3) #even sayılarla yani çift sayılar ile bölümü 0 olanlarla doldur\n",
    "print(AT_even)\n",
    "\n",
    "AT_odd=  AT[AT%2!=0].reshape(2,3) #even sayılarla yani çift sayılar ile bölümü 0 olanlarla doldur\n",
    "print(AT_odd)\n",
    "\n",
    "print('*Denemeler'*20)\n",
    "D1=np.hstack([AT_even,AT_odd])\n",
    "print(D1)\n",
    "print('*'*20)\n",
    "D2=np.hstack([AT_odd,AT_even])\n",
    "print(D2)\n",
    "print('*'*20)\n",
    "D3=np.vstack([AT_even,AT_odd])\n",
    "print(D3)\n",
    "print('*'*20)\n",
    "D4=np.vstack([AT_odd,AT_even])\n",
    "print(D4)\n",
    "print('*'*20)\n",
    "\n",
    "D5=np.concatenate([AT_even,AT_odd],axis=1)\n",
    "print(D5)\n",
    "print('*'*20)\n",
    "\n",
    "D6=np.concatenate([AT_odd,AT_even],axis=1)\n",
    "print(D6)\n",
    "print('*'*20)\n",
    "\n"
   ]
  },
  {
   "cell_type": "code",
   "execution_count": 41,
   "metadata": {},
   "outputs": [
    {
     "name": "stdout",
     "output_type": "stream",
     "text": [
      "[ 1  2  3  4  5  6  7  8  9 10 11 12 13 14]\n",
      "[array([1, 2]), array([3, 4, 5, 6]), array([ 7,  8,  9, 10, 11, 12, 13, 14])]\n"
     ]
    }
   ],
   "source": [
    "q28_1 = np.arange(1, 15)\n",
    "print(q28_1)\n",
    "\n",
    "print(np.split(q28_1, [2, 6]))"
   ]
  },
  {
   "cell_type": "code",
   "execution_count": 42,
   "metadata": {},
   "outputs": [
    {
     "name": "stdout",
     "output_type": "stream",
     "text": [
      "[[ 0  1  2  3]\n",
      " [ 4  5  6  7]\n",
      " [ 8  9 10 11]\n",
      " [12 13 14 15]]\n",
      "[array([[ 0,  1],\n",
      "       [ 4,  5],\n",
      "       [ 8,  9],\n",
      "       [12, 13]]), array([[ 2,  3],\n",
      "       [ 6,  7],\n",
      "       [10, 11],\n",
      "       [14, 15]]), array([], shape=(4, 0), dtype=int32)]\n"
     ]
    }
   ],
   "source": [
    "q29 = np.arange(16).reshape((4, 4))\n",
    "print(q29)\n",
    "\n",
    "print(np.hsplit(q29, [2, 6]))"
   ]
  },
  {
   "cell_type": "code",
   "execution_count": 50,
   "metadata": {},
   "outputs": [
    {
     "name": "stdout",
     "output_type": "stream",
     "text": [
      "[[ 0 10 20]\n",
      " [20 30 40]]\n",
      "5\n",
      "5\n"
     ]
    }
   ],
   "source": [
    "q30 = np.array([[0, 10, 20], [20, 30, 40]])\n",
    "\n",
    "print(q30)\n",
    "\n",
    "print(np.count_nonzero(q30))\n",
    "\n",
    "print(len(q30[q30!=0]))"
   ]
  },
  {
   "cell_type": "code",
   "execution_count": 45,
   "metadata": {},
   "outputs": [
    {
     "name": "stdout",
     "output_type": "stream",
     "text": [
      "[[ 10  20  30 100]\n",
      " [ 40  50  60 200]]\n"
     ]
    }
   ],
   "source": [
    "q31_1 = np.array([[10,20,30], [40,50,60]])\n",
    "q31_2 = np.array([[100], [200]])\n",
    "print(np.append(q31_1, q31_2, axis=1))"
   ]
  },
  {
   "cell_type": "code",
   "execution_count": 47,
   "metadata": {},
   "outputs": [
    {
     "name": "stdout",
     "output_type": "stream",
     "text": [
      "[-1 -4  0  2  3  4  5 -6]\n",
      "[0 0 0 2 3 4 5 0]\n"
     ]
    }
   ],
   "source": [
    "q32 = np.array([-1, -4, 0, 2, 3, 4, 5, -6])\n",
    "\n",
    "print(q32)\n",
    "\n",
    "q32[q32 < 0] = 0\n",
    "print(q32)\n"
   ]
  },
  {
   "cell_type": "code",
   "execution_count": 52,
   "metadata": {},
   "outputs": [
    {
     "name": "stdout",
     "output_type": "stream",
     "text": [
      "[[1. 2. 3.]\n",
      " [7. 8. 9.]\n",
      " [1. 0. 1.]]\n"
     ]
    }
   ],
   "source": [
    "q33=np.array([[1,2,3],\n",
    "              [4,5,np.nan],\n",
    "              [7,8,9],\n",
    "              [1,0,1]],dtype='float')\n",
    "print(q33[~np.isnan(q33).any(axis=1)])"
   ]
  },
  {
   "cell_type": "code",
   "execution_count": 53,
   "metadata": {},
   "outputs": [
    {
     "name": "stdout",
     "output_type": "stream",
     "text": [
      "[ 97 101 105 111 117]\n",
      "['a' 'e' 'i' 'o' 'u']\n",
      "['e' 'i']\n"
     ]
    }
   ],
   "source": [
    "q34_1 = np.array([97, 101, 105, 111, 117])\n",
    "q34_2 = np.array(['a','e','i','o','u'])\n",
    "\n",
    "print(q34_1)\n",
    "print(q34_2)\n",
    "\n",
    "print(q34_2[(q34_1>100) & (q34_1 < 110)])"
   ]
  },
  {
   "cell_type": "code",
   "execution_count": 54,
   "metadata": {},
   "outputs": [
    {
     "data": {
      "text/plain": [
       "array([[10, 20, 30, 40, 50],\n",
       "       [ 3,  2,  2,  2,  1]], dtype=int64)"
      ]
     },
     "execution_count": 54,
     "metadata": {},
     "output_type": "execute_result"
    }
   ],
   "source": [
    "#Write a NumPy program to count the frequency of unique values in numpy array.\n",
    "\n",
    "q35=[10,10,20,10,20,40,50,40,30,30]\n",
    "\n",
    "unique_value, repetitions=np.unique(q35, return_counts=True)\n",
    "np.asarray((unique_value, repetitions))"
   ]
  },
  {
   "cell_type": "code",
   "execution_count": 60,
   "metadata": {},
   "outputs": [
    {
     "name": "stdout",
     "output_type": "stream",
     "text": [
      "[[1 2 3]\n",
      " [4 5 6]\n",
      " [7 8 9]]\n",
      "[[2 3]\n",
      " [5 6]\n",
      " [8 9]]\n"
     ]
    }
   ],
   "source": [
    "#Write a NumPy program to access last two columns of a multidimensional columns.\n",
    "\n",
    "q36 = np.array([[1, 2, 3], [4, 5, 6], [7, 8, 9]])\n",
    "print(q36)\n",
    "q36_1 = q36[:,-2:]\n",
    "\n",
    "print(q36_1)"
   ]
  }
 ],
 "metadata": {
  "colab": {
   "name": "M1-01-Vectors.ipynb",
   "provenance": []
  },
  "kernelspec": {
   "display_name": "Python 3 (ipykernel)",
   "language": "python",
   "name": "python3"
  },
  "language_info": {
   "codemirror_mode": {
    "name": "ipython",
    "version": 3
   },
   "file_extension": ".py",
   "mimetype": "text/x-python",
   "name": "python",
   "nbconvert_exporter": "python",
   "pygments_lexer": "ipython3",
   "version": "3.9.12"
  }
 },
 "nbformat": 4,
 "nbformat_minor": 4
}
