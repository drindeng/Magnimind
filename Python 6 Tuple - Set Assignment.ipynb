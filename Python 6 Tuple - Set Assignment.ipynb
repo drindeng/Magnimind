{
 "cells": [
  {
   "cell_type": "code",
   "execution_count": 7,
   "id": "2fb1e5e0",
   "metadata": {},
   "outputs": [
    {
     "name": "stdout",
     "output_type": "stream",
     "text": [
      "('Sunday', 'Monday', 'Tuesday', 'Wednesday', 'Thursday', 'Friday', 'Saturday')\n",
      "<class 'tuple'>\n"
     ]
    }
   ],
   "source": [
    "#1- Create a tuple named \"week\" containing weekdays.\n",
    "\n",
    "week = ('Sunday', 'Monday', 'Tuesday', 'Wednesday', 'Thursday', 'Friday', 'Saturday')\n",
    "print(week)\n",
    "\n",
    "print(type(week))"
   ]
  },
  {
   "cell_type": "code",
   "execution_count": 6,
   "id": "ceb21355",
   "metadata": {},
   "outputs": [
    {
     "name": "stdout",
     "output_type": "stream",
     "text": [
      "{'mango', 'apple', 'orange'}\n",
      "<class 'set'>\n"
     ]
    }
   ],
   "source": [
    "#Create a set named \"fruits\" containing followings: apple, mango, orange\n",
    "\n",
    "fruits= {'apple', 'mango', 'orange'}\n",
    "print(fruits)\n",
    "print(type(fruits))"
   ]
  },
  {
   "cell_type": "code",
   "execution_count": 8,
   "id": "9c103476",
   "metadata": {},
   "outputs": [
    {
     "name": "stdout",
     "output_type": "stream",
     "text": [
      "{'peach', 'mango', 'apple', 'cherry'}\n",
      "<class 'set'>\n"
     ]
    }
   ],
   "source": [
    "#Create a new set named \"new_fruits\" containing followings: cherry, peach, apple, mango\n",
    "\n",
    "new_fruits= {'cherry', 'peach', 'apple', 'mango'}\n",
    "print(new_fruits)\n",
    "print(type(new_fruits))"
   ]
  },
  {
   "cell_type": "code",
   "execution_count": 10,
   "id": "827a1ec1",
   "metadata": {},
   "outputs": [
    {
     "name": "stdout",
     "output_type": "stream",
     "text": [
      "{'cherry', 'peach'}\n"
     ]
    }
   ],
   "source": [
    "#4- Find the fruits which are in new_fruits but not in fruits.\n",
    "\n",
    "print(new_fruits.difference(fruits))"
   ]
  },
  {
   "cell_type": "code",
   "execution_count": 13,
   "id": "4d2df9e0",
   "metadata": {},
   "outputs": [
    {
     "name": "stdout",
     "output_type": "stream",
     "text": [
      "{'mango', 'apple'}\n"
     ]
    }
   ],
   "source": [
    "#5- Find the fruits which are in both new_fruits and fruits.\n",
    "\n",
    "print(new_fruits.intersection(fruits))"
   ]
  }
 ],
 "metadata": {
  "kernelspec": {
   "display_name": "Python 3 (ipykernel)",
   "language": "python",
   "name": "python3"
  },
  "language_info": {
   "codemirror_mode": {
    "name": "ipython",
    "version": 3
   },
   "file_extension": ".py",
   "mimetype": "text/x-python",
   "name": "python",
   "nbconvert_exporter": "python",
   "pygments_lexer": "ipython3",
   "version": "3.9.12"
  }
 },
 "nbformat": 4,
 "nbformat_minor": 5
}
