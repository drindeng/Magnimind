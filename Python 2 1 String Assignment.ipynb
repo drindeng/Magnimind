{
 "cells": [
  {
   "cell_type": "code",
   "execution_count": null,
   "id": "1717b6fd",
   "metadata": {},
   "outputs": [],
   "source": [
    "#Ask the user to enter their first name and surname in lower case. \n",
    "#Change the case to title case and join them together. Display the finished result.\n",
    "\n",
    "firstname = input(\"Input your First Name in lower case: \")\n",
    "surname = input(\"Input your Last Name in lower case: \")\n",
    "\n",
    "firstnameC= firstname.capitalize ()\n",
    "surnameC= surname.capitalize()\n",
    "\n",
    "print (firstnameC + \" \" + surnameC)\n",
    "\n",
    "\n",
    "\n"
   ]
  },
  {
   "cell_type": "code",
   "execution_count": 2,
   "id": "b21e05e2",
   "metadata": {},
   "outputs": [
    {
     "name": "stdout",
     "output_type": "stream",
     "text": [
      "Input your First Name in lower case: ali\n",
      "Input your Last Name in lower case: veli\n",
      "Ali Veli\n",
      "Ali Veli\n"
     ]
    }
   ],
   "source": [
    "#Ask the user to enter their first name and surname in lower case. \n",
    "#Change the case to title case and join them together. Display the finished result.\n",
    "\n",
    "firstname2 = input(\"Input your First Name in lower case: \")\n",
    "surname2 = input(\"Input your Last Name in lower case: \")\n",
    "\n",
    "firstname2 = firstname2.title()\n",
    "surname2 = surname2.title()\n",
    "\n",
    "full_name= firstname2 + \" \" + surname2\n",
    "print(full_name)\n",
    "\n",
    "full_name2= ' '.join([firstname2,surname2])\n",
    "print(full_name2)"
   ]
  },
  {
   "cell_type": "code",
   "execution_count": null,
   "id": "04ea580c",
   "metadata": {},
   "outputs": [],
   "source": [
    "Deep into that darkness peering,\n",
    "\n",
    "Long I stood there, wondering, fearing,\n",
    "\n",
    "Doubting, dreaming dreams no mortals\n",
    "\n",
    "Ever dared to dream before;\n",
    "\n",
    "But the silence was unbroken,\n",
    "\n",
    "And the stillness gave no token,\n",
    "\n",
    "And the only word there spoken\n",
    "\n",
    "Was the whispered word, \"Lenore!\"\n",
    "\n",
    "This I whispered, and an echo\n",
    "\n",
    "Murmured back the word, \"Lenore!\"\n",
    "\n",
    "Merely this, and nothing more."
   ]
  },
  {
   "cell_type": "code",
   "execution_count": null,
   "id": "767bfc1b",
   "metadata": {},
   "outputs": [],
   "source": [
    "#Ask the user to type in the first line of a poem Raven by Edgar Allen Poe and \n",
    "#display the length of the string. \n",
    "#Ask for a starting number and an ending number and then display just that section of the text (remember Python starts counting from 0 and not 1). Here is the poem Raven:\n",
    "\n",
    "firstline = input(\"Input the first line of a poem: \")\n",
    "\n",
    "len(firstline)\n",
    "\n",
    "startingnumber = int(input(\"Input the starting number: \"))\n",
    "endingnumber = int(input(\"Input the ending number: \"))\n",
    "\n",
    "X = firstline[startingnumber:endingnumber]\n",
    "\n",
    "print (\"Elements between\"+ \" \"+str(startingnumber)+\".\"+\" and \"+str(endingnumber)+\". =\", X)\n",
    "#print(X)\n"
   ]
  },
  {
   "cell_type": "code",
   "execution_count": 8,
   "id": "680072b9",
   "metadata": {},
   "outputs": [
    {
     "name": "stdout",
     "output_type": "stream",
     "text": [
      "Input the first line of a poem: Deep into that darkness peering\n",
      "31\n",
      "Chose two integer in the range og 0 - 371, example:2,5: 6,10\n",
      "into\n"
     ]
    }
   ],
   "source": [
    "poem = input(\"Input the first line of a poem: \")\n",
    "print(len(poem))\n",
    "\n",
    "poem_original = \"\"\"\n",
    "Deep into that darkness peering,\n",
    "\n",
    "Long I stood there, wondering, fearing,\n",
    "\n",
    "Doubting, dreaming dreams no mortals\n",
    "\n",
    "Ever dared to dream before;\n",
    "\n",
    "But the silence was unbroken,\n",
    "\n",
    "And the stillness gave no token,\n",
    "\n",
    "And the only word there spoken\n",
    "\n",
    "Was the whispered word, \"Lenore!\"\n",
    "\n",
    "This I whispered, and an echo\n",
    "\n",
    "Murmured back the word, \"Lenore!\"\n",
    "\n",
    "Merely this, and nothing more.\"\"\"\n",
    "\n",
    "\n",
    "Nums=input (f'Chose two integer in the range og 0 - {len(poem_original)}, example:2,5: ')\n",
    "\n",
    "Nums.strip()\n",
    "N1, N2 = Nums.split(',')\n",
    "N1, N2 = int(N1), int(N2)\n",
    "\n",
    "if N1<N2:\n",
    "    print (poem_original[N1:N2])\n",
    "else:\n",
    "    print (poem_original[N2:N1])"
   ]
  },
  {
   "cell_type": "code",
   "execution_count": null,
   "id": "bb285f3f",
   "metadata": {},
   "outputs": [],
   "source": [
    " #Removes extra characters from the start and end of a string and \n",
    "#explain why you need to remove white spaces while exploring text.\n",
    "\n",
    "name = \"    Welcome    to    USA  \"\n",
    "name.strip()\n"
   ]
  },
  {
   "cell_type": "code",
   "execution_count": 13,
   "id": "4658dc35",
   "metadata": {},
   "outputs": [
    {
     "name": "stdout",
     "output_type": "stream",
     "text": [
      "Deep into that darkness peering,\n",
      "Deep into that darkness peering\n"
     ]
    }
   ],
   "source": [
    "string = 'Deep into that darkness peering,'\n",
    "string=string.strip()\n",
    "print(string)\n",
    "\n",
    "string2=string.strip(',')\n",
    "print(string2)"
   ]
  },
  {
   "cell_type": "code",
   "execution_count": 20,
   "id": "696412cb",
   "metadata": {},
   "outputs": [
    {
     "name": "stdout",
     "output_type": "stream",
     "text": [
      "Deep into that darkness peering,\n",
      "Deep into that darkness peering\n"
     ]
    }
   ],
   "source": [
    "string3 = '    Deep into that darkness peering,    '\n",
    "string3=string3.strip()\n",
    "print(string)\n",
    "\n",
    "string4=string3.strip(',')\n",
    "print(string4)\n",
    "\n"
   ]
  }
 ],
 "metadata": {
  "kernelspec": {
   "display_name": "Python 3 (ipykernel)",
   "language": "python",
   "name": "python3"
  },
  "language_info": {
   "codemirror_mode": {
    "name": "ipython",
    "version": 3
   },
   "file_extension": ".py",
   "mimetype": "text/x-python",
   "name": "python",
   "nbconvert_exporter": "python",
   "pygments_lexer": "ipython3",
   "version": "3.9.12"
  }
 },
 "nbformat": 4,
 "nbformat_minor": 5
}
