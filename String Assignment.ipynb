{
 "cells": [
  {
   "cell_type": "code",
   "execution_count": 19,
   "id": "1717b6fd",
   "metadata": {},
   "outputs": [
    {
     "name": "stdout",
     "output_type": "stream",
     "text": [
      "Input your First Name in lower case: ali\n",
      "Input your Last Name in lower case: veli\n",
      "Ali Veli\n"
     ]
    }
   ],
   "source": [
    "#Ask the user to enter their first name and surname in lower case. \n",
    "#Change the case to title case and join them together. Display the finished result.\n",
    "\n",
    "firstname = input(\"Input your First Name in lower case: \")\n",
    "surname = input(\"Input your Last Name in lower case: \")\n",
    "\n",
    "firstnameC= firstname.capitalize ()\n",
    "surnameC= surname.capitalize()\n",
    "\n",
    "print (firstnameC + \" \" + surnameC)\n",
    "\n"
   ]
  },
  {
   "cell_type": "code",
   "execution_count": 2,
   "id": "767bfc1b",
   "metadata": {},
   "outputs": [
    {
     "name": "stdout",
     "output_type": "stream",
     "text": [
      "Input the first line of a poem: Deep into that darkness peering\n",
      "Input the starting number: 6\n",
      "Input the ending number: 10\n",
      "Elements between 6. and 10. = nto \n"
     ]
    }
   ],
   "source": [
    "#Ask the user to type in the first line of a poem Raven by Edgar Allen Poe and \n",
    "#display the length of the string. \n",
    "#Ask for a starting number and an ending number and then display just that section of the text (remember Python starts counting from 0 and not 1). Here is the poem Raven:\n",
    "\n",
    "firstline = input(\"Input the first line of a poem: \")\n",
    "\n",
    "len(firstline)\n",
    "\n",
    "startingnumber = int(input(\"Input the starting number: \"))\n",
    "endingnumber = int(input(\"Input the ending number: \"))\n",
    "\n",
    "X = firstline[startingnumber:endingnumber]\n",
    "\n",
    "print (\"Elements between\"+ \" \"+str(startingnumber)+\".\"+\" and \"+str(endingnumber)+\". =\", X)\n",
    "#print(X)\n"
   ]
  },
  {
   "cell_type": "code",
   "execution_count": 8,
   "id": "bb285f3f",
   "metadata": {},
   "outputs": [
    {
     "data": {
      "text/plain": [
       "'We lcome    to    USA'"
      ]
     },
     "execution_count": 8,
     "metadata": {},
     "output_type": "execute_result"
    }
   ],
   "source": [
    " #Removes extra characters from the start and end of a string and \n",
    "#explain why you need to remove white spaces while exploring text.\n",
    "\n",
    "name = \"    Welcome    to    USA  \"\n",
    "name.strip()\n"
   ]
  }
 ],
 "metadata": {
  "kernelspec": {
   "display_name": "Python 3 (ipykernel)",
   "language": "python",
   "name": "python3"
  },
  "language_info": {
   "codemirror_mode": {
    "name": "ipython",
    "version": 3
   },
   "file_extension": ".py",
   "mimetype": "text/x-python",
   "name": "python",
   "nbconvert_exporter": "python",
   "pygments_lexer": "ipython3",
   "version": "3.9.12"
  }
 },
 "nbformat": 4,
 "nbformat_minor": 5
}
